{
 "cells": [
  {
   "cell_type": "markdown",
   "id": "65d566de",
   "metadata": {},
   "source": [
    "openweathermap"
   ]
  },
  {
   "cell_type": "code",
   "execution_count": 13,
   "id": "4e265277",
   "metadata": {},
   "outputs": [],
   "source": [
    "api_key=\"73df9e78d12fefeba0c431db1e5dd0c3\""
   ]
  },
  {
   "cell_type": "code",
   "execution_count": 14,
   "id": "a6ef5c7f",
   "metadata": {},
   "outputs": [],
   "source": [
    "import requests #import requests library\n",
    "import pandas as pd  #import pandas library"
   ]
  },
  {
   "cell_type": "code",
   "execution_count": 15,
   "id": "25dc5341",
   "metadata": {},
   "outputs": [
    {
     "data": {
      "text/plain": [
       "'London'"
      ]
     },
     "execution_count": 15,
     "metadata": {},
     "output_type": "execute_result"
    }
   ],
   "source": [
    "city=input(\"Enter the city name: \") #prompt user for city name\n",
    "city #print the city name"
   ]
  },
  {
   "cell_type": "code",
   "execution_count": 16,
   "id": "fe10f93c",
   "metadata": {},
   "outputs": [
    {
     "data": {
      "text/plain": [
       "'https://api.openweathermap.org/data/2.5/weather?q=London&appid=73df9e78d12fefeba0c431db1e5dd0c3&units=matric'"
      ]
     },
     "execution_count": 16,
     "metadata": {},
     "output_type": "execute_result"
    }
   ],
   "source": [
    "url=f\"https://api.openweathermap.org/data/2.5/weather?q={city}&appid={api_key}&units=matric\" #create url with city name and api key\n",
    "url  #print the url"
   ]
  },
  {
   "cell_type": "code",
   "execution_count": 17,
   "id": "d356ff1e",
   "metadata": {},
   "outputs": [
    {
     "name": "stdout",
     "output_type": "stream",
     "text": [
      "200\n"
     ]
    }
   ],
   "source": [
    "response=requests.get(url) #get the response from the url\n",
    "print(response.status_code) #print the status code of the response\n",
    "\n",
    "\n",
    "if response.status_code==200: #if the status code is 200, the request was successful\n",
    "    data=response.json() #convert the response to json format\n",
    "else:\n",
    "    print(\"City not found.Please check the name and try again.\") #check else the city was not found print this message\n",
    "    exit()     #exit the program\n",
    "\n",
    "    "
   ]
  },
  {
   "cell_type": "code",
   "execution_count": 18,
   "id": "eeeb9f7b",
   "metadata": {},
   "outputs": [],
   "source": [
    "#Extracting the relevent data from the response\n",
    "\n",
    "main_data=data['main'] #get the main data from the response\n",
    "temperature=main_data['temp'] #get the temperature from the main data\n",
    "pressure=main_data['pressure'] #get the pressure from the main data\n",
    "humidity=main_data['humidity'] #get the humidity from the main data\n",
    "timestamp=data['dt'] #get the timestamp from the response"
   ]
  },
  {
   "cell_type": "code",
   "execution_count": 19,
   "id": "eeaeb33a",
   "metadata": {},
   "outputs": [
    {
     "name": "stdout",
     "output_type": "stream",
     "text": [
      "City: London\n",
      "Date and Time:  2025-50-04/27/25 Apr:5047\n",
      "Temperature:292.45°C\n",
      "Humidity:50%\n"
     ]
    }
   ],
   "source": [
    "#Convert timestamp to datetime format\n",
    "\n",
    "import datetime #import datetime library\n",
    "dt_object=datetime.datetime.fromtimestamp(timestamp) #convert the timestamp to datetime format.\n",
    "print(\"City:\",city) #print the city name\n",
    "print(\"Date and Time: \",dt_object.strftime(\"%Y-%M-%D %h:%M%S\")) #print the date and time in the specified format \n",
    "print(f\"Temperature:{temperature}°C\") #print the temperature in celsius\n",
    "print(f\"Humidity:{humidity}%\") #print the humidity in percentage"
   ]
  },
  {
   "cell_type": "code",
   "execution_count": 20,
   "id": "4217b4bf",
   "metadata": {},
   "outputs": [],
   "source": [
    "weather_data={\n",
    "    'City':city,\n",
    "    'Date and Time':dt_object.strftime(\"%Y-%M-%D %H:%M:%S\"),\n",
    "}"
   ]
  },
  {
   "cell_type": "code",
   "execution_count": 21,
   "id": "8afe634f",
   "metadata": {},
   "outputs": [
    {
     "data": {
      "text/html": [
       "<div>\n",
       "<style scoped>\n",
       "    .dataframe tbody tr th:only-of-type {\n",
       "        vertical-align: middle;\n",
       "    }\n",
       "\n",
       "    .dataframe tbody tr th {\n",
       "        vertical-align: top;\n",
       "    }\n",
       "\n",
       "    .dataframe thead th {\n",
       "        text-align: right;\n",
       "    }\n",
       "</style>\n",
       "<table border=\"1\" class=\"dataframe\">\n",
       "  <thead>\n",
       "    <tr style=\"text-align: right;\">\n",
       "      <th></th>\n",
       "      <th>City</th>\n",
       "      <th>Date and Time</th>\n",
       "    </tr>\n",
       "  </thead>\n",
       "  <tbody>\n",
       "    <tr>\n",
       "      <th>0</th>\n",
       "      <td>London</td>\n",
       "      <td>2025-50-04/27/25 16:50:47</td>\n",
       "    </tr>\n",
       "  </tbody>\n",
       "</table>\n",
       "</div>"
      ],
      "text/plain": [
       "     City              Date and Time\n",
       "0  London  2025-50-04/27/25 16:50:47"
      ]
     },
     "execution_count": 21,
     "metadata": {},
     "output_type": "execute_result"
    }
   ],
   "source": [
    "df1=pd.DataFrame([weather_data]) #create a dataframe from the weather data\n",
    "df1"
   ]
  },
  {
   "cell_type": "code",
   "execution_count": 26,
   "id": "fadecec2",
   "metadata": {},
   "outputs": [
    {
     "name": "stdout",
     "output_type": "stream",
     "text": [
      "200\n",
      "City: London\n",
      "Date and Time:  2025-48-04/27/25 Apr:4804\n",
      "Temperature:19.3°C\n",
      "Humidity:50%\n",
      "200\n",
      "City: USA\n",
      "Date and Time:  2025-54-04/27/25 Apr:5422\n",
      "Temperature:24.72°C\n",
      "Humidity:65%\n",
      "200\n",
      "City: Ambala\n",
      "Date and Time:  2025-53-04/27/25 Apr:5315\n",
      "Temperature:41.05°C\n",
      "Humidity:4%\n",
      "200\n",
      "City: Delhi\n",
      "Date and Time:  2025-48-04/27/25 Apr:4842\n",
      "Temperature:39.05°C\n",
      "Humidity:8%\n",
      "200\n",
      "City: Chandigarh\n",
      "Date and Time:  2025-50-04/27/25 Apr:5025\n",
      "Temperature:40.39°C\n",
      "Humidity:4%\n",
      "200\n",
      "City: Naraingarh\n",
      "Date and Time:  2025-56-04/27/25 Apr:5617\n",
      "Temperature:40.68°C\n",
      "Humidity:4%\n"
     ]
    },
    {
     "data": {
      "text/html": [
       "<div>\n",
       "<style scoped>\n",
       "    .dataframe tbody tr th:only-of-type {\n",
       "        vertical-align: middle;\n",
       "    }\n",
       "\n",
       "    .dataframe tbody tr th {\n",
       "        vertical-align: top;\n",
       "    }\n",
       "\n",
       "    .dataframe thead th {\n",
       "        text-align: right;\n",
       "    }\n",
       "</style>\n",
       "<table border=\"1\" class=\"dataframe\">\n",
       "  <thead>\n",
       "    <tr style=\"text-align: right;\">\n",
       "      <th></th>\n",
       "      <th>City</th>\n",
       "      <th>Date and Time</th>\n",
       "      <th>Temperature (°C)</th>\n",
       "      <th>Pressure (hPa)</th>\n",
       "      <th>Humidity (%)</th>\n",
       "    </tr>\n",
       "  </thead>\n",
       "  <tbody>\n",
       "    <tr>\n",
       "      <th>0</th>\n",
       "      <td>London</td>\n",
       "      <td>2025-04-27 16:48:04</td>\n",
       "      <td>19.30</td>\n",
       "      <td>1026</td>\n",
       "      <td>50</td>\n",
       "    </tr>\n",
       "    <tr>\n",
       "      <th>1</th>\n",
       "      <td>USA</td>\n",
       "      <td>2025-04-27 16:54:22</td>\n",
       "      <td>24.72</td>\n",
       "      <td>1012</td>\n",
       "      <td>65</td>\n",
       "    </tr>\n",
       "    <tr>\n",
       "      <th>2</th>\n",
       "      <td>Ambala</td>\n",
       "      <td>2025-04-27 16:53:15</td>\n",
       "      <td>41.05</td>\n",
       "      <td>1002</td>\n",
       "      <td>4</td>\n",
       "    </tr>\n",
       "    <tr>\n",
       "      <th>3</th>\n",
       "      <td>Delhi</td>\n",
       "      <td>2025-04-27 16:48:42</td>\n",
       "      <td>39.05</td>\n",
       "      <td>1002</td>\n",
       "      <td>8</td>\n",
       "    </tr>\n",
       "    <tr>\n",
       "      <th>4</th>\n",
       "      <td>Chandigarh</td>\n",
       "      <td>2025-04-27 16:50:25</td>\n",
       "      <td>40.39</td>\n",
       "      <td>1002</td>\n",
       "      <td>4</td>\n",
       "    </tr>\n",
       "    <tr>\n",
       "      <th>5</th>\n",
       "      <td>Naraingarh</td>\n",
       "      <td>2025-04-27 16:56:17</td>\n",
       "      <td>40.68</td>\n",
       "      <td>1002</td>\n",
       "      <td>4</td>\n",
       "    </tr>\n",
       "  </tbody>\n",
       "</table>\n",
       "</div>"
      ],
      "text/plain": [
       "         City        Date and Time  Temperature (°C)  Pressure (hPa)  \\\n",
       "0      London  2025-04-27 16:48:04             19.30            1026   \n",
       "1         USA  2025-04-27 16:54:22             24.72            1012   \n",
       "2      Ambala  2025-04-27 16:53:15             41.05            1002   \n",
       "3       Delhi  2025-04-27 16:48:42             39.05            1002   \n",
       "4  Chandigarh  2025-04-27 16:50:25             40.39            1002   \n",
       "5  Naraingarh  2025-04-27 16:56:17             40.68            1002   \n",
       "\n",
       "   Humidity (%)  \n",
       "0            50  \n",
       "1            65  \n",
       "2             4  \n",
       "3             8  \n",
       "4             4  \n",
       "5             4  "
      ]
     },
     "execution_count": 26,
     "metadata": {},
     "output_type": "execute_result"
    }
   ],
   "source": [
    "# if you get data of 6 cities at once,what will you do?\n",
    "\n",
    "# Use a for loop to iterate over a list of cities and store the data in a list of dictionaries\n",
    "cities=[\"London\",\"USA\",\"Ambala\",\"Delhi\",\"Chandigarh\",\"Naraingarh\"]\n",
    "\n",
    "weather_data_list=[]\n",
    "\n",
    "for city in cities:\n",
    "    url=f\"https://api.openweathermap.org/data/2.5/weather?q={city}&appid={api_key}&units=metric\" #create url with city name and api key\n",
    "    response=requests.get(url)\n",
    "    print(response.status_code)\n",
    "\n",
    "    if response.status_code==200:\n",
    "        data=response.json()\n",
    "    \n",
    "    else:\n",
    "        print(\"City not found.Please check the name and try again.\")\n",
    "        exit()\n",
    "        #Extracting the relevent data from the response\n",
    "\n",
    "    main_data=data['main'] #get the main data from the response\n",
    "    temperature=main_data['temp'] #get the temperature from the main data\n",
    "    pressure=main_data['pressure'] #get the pressure from the main data\n",
    "    humidity=main_data['humidity'] #get the humidity from the main data\n",
    "    timestamp=data['dt'] #get the timestamp from the response  \n",
    "\n",
    "#Convert timestamp to datetime format\n",
    "\n",
    "    import datetime #import datetime library\n",
    "    dt_object=datetime.datetime.fromtimestamp(timestamp) #convert the timestamp to datetime format.\n",
    "    print(\"City:\",city) #print the city name\n",
    "    print(\"Date and Time: \",dt_object.strftime(\"%Y-%M-%D %h:%M%S\")) #print the date and time in the specified format \n",
    "    print(f\"Temperature:{temperature}°C\") #print the temperature in celsius\n",
    "    print(f\"Humidity:{humidity}%\") #print the humidity in percentage    \n",
    "    weather_data = {\n",
    "        'City': city,\n",
    "        'Date and Time': dt_object.strftime(\"%Y-%m-%d %H:%M:%S\"),\n",
    "        'Temperature (°C)': temperature,\n",
    "        'Pressure (hPa)': pressure,\n",
    "        'Humidity (%)': humidity\n",
    "    }\n",
    "    weather_data_list.append(weather_data)\n",
    "\n",
    "df = pd.DataFrame(weather_data_list)\n",
    "df"
   ]
  },
  {
   "cell_type": "code",
   "execution_count": 27,
   "id": "42fe0ffd",
   "metadata": {},
   "outputs": [
    {
     "data": {
      "text/plain": [
       "{'coord': {'lon': 77.1243, 'lat': 30.4724},\n",
       " 'weather': [{'id': 800,\n",
       "   'main': 'Clear',\n",
       "   'description': 'clear sky',\n",
       "   'icon': '01d'}],\n",
       " 'base': 'stations',\n",
       " 'main': {'temp': 40.68,\n",
       "  'feels_like': 36.73,\n",
       "  'temp_min': 40.68,\n",
       "  'temp_max': 40.68,\n",
       "  'pressure': 1002,\n",
       "  'humidity': 4,\n",
       "  'sea_level': 1002,\n",
       "  'grnd_level': 963},\n",
       " 'visibility': 10000,\n",
       " 'wind': {'speed': 5.06, 'deg': 270, 'gust': 3.52},\n",
       " 'clouds': {'all': 0},\n",
       " 'dt': 1745753177,\n",
       " 'sys': {'country': 'IN', 'sunrise': 1745712702, 'sunset': 1745760380},\n",
       " 'timezone': 19800,\n",
       " 'id': 1278860,\n",
       " 'name': 'Naraingarh',\n",
       " 'cod': 200}"
      ]
     },
     "execution_count": 27,
     "metadata": {},
     "output_type": "execute_result"
    }
   ],
   "source": [
    "data"
   ]
  },
  {
   "cell_type": "code",
   "execution_count": null,
   "id": "dbd67e72",
   "metadata": {},
   "outputs": [],
   "source": []
  }
 ],
 "metadata": {
  "kernelspec": {
   "display_name": "Python 3",
   "language": "python",
   "name": "python3"
  },
  "language_info": {
   "codemirror_mode": {
    "name": "ipython",
    "version": 3
   },
   "file_extension": ".py",
   "mimetype": "text/x-python",
   "name": "python",
   "nbconvert_exporter": "python",
   "pygments_lexer": "ipython3",
   "version": "3.11.4"
  }
 },
 "nbformat": 4,
 "nbformat_minor": 5
}
