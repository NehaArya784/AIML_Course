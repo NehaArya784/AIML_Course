{
 "cells": [
  {
   "cell_type": "markdown",
   "id": "d176ea77",
   "metadata": {},
   "source": []
  },
  {
   "cell_type": "markdown",
   "id": "eea7975a",
   "metadata": {},
   "source": []
  },
  {
   "cell_type": "code",
   "execution_count": null,
   "id": "3f637cb3",
   "metadata": {},
   "outputs": [],
   "source": []
  }
 ],
 "metadata": {
  "language_info": {
   "name": "python"
  }
 },
 "nbformat": 4,
 "nbformat_minor": 5
}
