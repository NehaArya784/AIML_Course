{
 "cells": [
  {
   "cell_type": "markdown",
   "id": "d176ea77",
   "metadata": {},
   "source": [
    "<div style=\"background-color: #add8e6; padding: 10px; height: 70px; border-radius: 15px;\">\n",
    "    <div style=\"font-family: 'Georgia', serif; font-size: 20px; padding: 10px; text-align: right; position: absolute; right: 20px;\">\n",
    "        Neha <br>\n",
    "        <span style=\"font-family: 'Arial', sans-serif;font-size: 12px; color: #0a0a0a;\">Tech Skills Trainee <b>\n",
    "        |Data Story Telling|</b> <!--- Devashish Kumar | CodroidHub Private Limited | AI/ML Consultant --->\n",
    "    </div>\n",
    "</div>"
   ]
  },
  {
   "cell_type": "markdown",
   "id": "eea7975a",
   "metadata": {},
   "source": [
    "<div style=\"background-color: #002147; padding: 10px; text-align: center; color: white; font-size: 32px; font-family: 'Arial', sans-serif;\">\n",
    "    Data Story Telling <br>\n",
    "    <h3 style=\"text-align: center; color: white; font-size: 15px; font-family: 'Arial', sans-serif;\"></h3>\n",
    "</div>"
   ]
  },
  {
   "cell_type": "markdown",
   "id": "29a4e4a5",
   "metadata": {},
   "source": [
    "<div style=\"background-color: lightgreen; color: black; padding: 4px;\">\n",
    "    <h2>  What is Data Story Telling?\n",
    "</h2> </div>"
   ]
  },
  {
   "cell_type": "markdown",
   "id": "6368738f",
   "metadata": {},
   "source": [
    "Data storytelling is the practice of transforming data into a compelling narrative that effectively communicates insights to an audience. It focuses on making complex information understandable and engaging by weaving data analysis findings into a story that influences decisions. \n",
    "Key aspects of data storytelling:"
   ]
  },
  {
   "cell_type": "markdown",
   "metadata": {},
   "source": [
    "<div style=\"background-color: lightgreen; color: black; padding: 4px;\">\n",
    "    <h2> The benefits of data storytelling\n",
    "</h2> </div>\n",
    "\n"
   ]
  },
  {
   "cell_type": "markdown",
   "id": "5811e1cb",
   "metadata": {},
   "source": [
    "Data storytelling is very similar to human storytelling but provides the added benefits of deeper insights and supporting evidence through graphs and charts. Through data storytelling, complicated information is simplified so that your audience can engage with your content and make critical decisions quicker and more confidently.\n",
    "\n",
    " \n",
    "\n",
    "Constructing a data story that moves a person to take action can be a very powerful tool. Effective data storytelling can have a positive impact on people and your organization. Some benefits of successful data storytelling include:"
   ]
  },
  {
   "cell_type": "markdown",
   "id": "eab3c044",
   "metadata": {},
   "source": [
    "->Adding value to your data and insights.\n",
    "\n",
    "->Interpreting complex information and highlighting essential key points for the audience.\n",
    "\n",
    "->Providing a human touch to your data.\n",
    "\n",
    "->Offering value to your audience and industry.\n",
    "\n",
    "->Building credibility as an industry and topic thought leader."
   ]
  },
  {
   "cell_type": "markdown",
   "id": "bbb119a9",
   "metadata": {},
   "source": [
    "<div style=\"background-color: lightgreen; color: black; padding: 4px;\">\n",
    "    <h2> The 3 components of data storytelling\n",
    "</h2> </div>\n",
    "\n",
    "\n",
    "\n"
   ]
  },
  {
   "cell_type": "markdown",
   "id": "c53bbdf7",
   "metadata": {},
   "source": [
    "<b>Data storytelling is made up of three key parts:</b>\n",
    "\n",
    "<b>1.Data:</b> The data set is the base of a data story. The storyteller gathers accurate data and analysis from other research, surveys, charts, graphs and dashboards using tools for analyzing data.\n",
    "\n",
    "<b>2.Narrative:</b> This is a verbal or written storyline that uses data to communicate insights effectively. The narrative should be within the context of the data and present a clear explanation of what the data means and its importance.\n",
    "\n",
    "<b>3.Visualizations:</b> These provide representations of the data and the narrative and are used to communicate the story more clearly. Visualizations include graphs, charts, diagrams, videos and photos."
   ]
  },
  {
   "cell_type": "markdown",
   "id": "9f1a1a82",
   "metadata": {},
   "source": [
    "<div style=\"background-color: lightgreen; color: black; padding: 4px;\">\n",
    "    <h2>What makes a good data story?\n",
    "</h2> </div>\n",
    "\n",
    "\n",
    "\n"
   ]
  },
  {
   "cell_type": "markdown",
   "id": "ac1b044f",
   "metadata": {},
   "source": [
    "<b>Besides data, narrative and visualizations, a good data story must also include the following elements:</b>\n",
    "\n",
    "<b>Setting:</b> The setting should be based on the data. If the data is about internal systems, then the setting is inside an organization with the same internal setup.\n",
    "\n",
    "<b>Characters:</b> The characters could include customers, the organization, stakeholders and other key players the data surrounds.\n",
    "\n",
    "<b>Conflict:</b> The conflict is any issue and the effects of that issue that the data might present. The conflict affects the characters or setting.\n",
    "\n",
    "<b>Resolution:</b> The resolution is a proposed solution to any apparent issues or anything that might help inform the decision-making processes."
   ]
  },
  {
   "cell_type": "markdown",
   "id": "8ecdcc9b",
   "metadata": {},
   "source": [
    "<div style=\"background-color: lightgreen; color: black; padding: 4px;\">\n",
    "    <h2>Data stories vs. data visualizations\n",
    "</h2> </div>\n",
    "\n",
    "\n",
    "\n",
    "\n",
    "\n"
   ]
  },
  {
   "cell_type": "markdown",
   "id": "2227de9e",
   "metadata": {},
   "source": [
    "Data storytelling and visualization are ideally part of an overall presentation. The former uses words to convey the message, while the latter uses visuals, such as graphics, videos and photographs, to deliver the message.\n",
    "\n",
    "One important source of visuals is a system dashboard, especially one that has a good blend of images along with letters and numbers. These dashboards map and present data so it's easier to understand. Storytelling can then be used to communicate the meaning of the data with a call to action by the audience."
   ]
  },
  {
   "cell_type": "markdown",
   "id": "603e7ff8",
   "metadata": {},
   "source": [
    "<div style=\"background-color: lightgreen; color: black; padding: 4px;\">\n",
    "    <h2>How to tell an effective data story\n",
    "</h2> </div>\n",
    "\n",
    "\n",
    "\n",
    "\n",
    "\n"
   ]
  },
  {
   "cell_type": "markdown",
   "id": "5f6082cd",
   "metadata": {},
   "source": [
    "<b>When preparing to deliver a data story, there is a general series of steps to follow:</b>\n",
    "\n",
    "<b>1. Know your audience:</b>\n",
    "The most important step in the storytelling process is to identify and understand a prospective audience. Who is attending? What are their overall roles? What are their roles in the situation being discussed? What are their expectations?\n",
    "\n",
    "An audience of C-level people has a different perspective and expectations than a group of IT professionals. Naturally, it's preferable to have a largely homogeneous audience. With an audience of different types of people, the challenges increase considerably. The storyteller must be well prepared and adaptable to the audience.\n",
    "\n",
    "Part of knowing one's audience is discerning their expectations -- that is, knowing what they hope to learn from the story and the data behind it.\n",
    "\n",
    "<b>2. Build a structured story based on facts:</b>\n",
    "The story needs to have a beginning, middle and end. Technical and nontechnical elements must be woven into the storyline in ways that are clear to the audience. Discussing data-based facts isn't exciting, but a memorable story is. Take the basic information, and weave it into a story that is understandable, is believable and delivers the right message.\n",
    "\n",
    "<b>3. Use language your audience understands:</b>\n",
    "If the audience is technical, it's OK to use technical terms and jargon. By contrast, an audience of senior managers might respond better to nontechnical terms aligned with their interest and expertise. For this audience, use business-related terms, and avoid tech jargon.\n",
    "\n",
    "<b>4. Base your story in the real world</b>\n",
    "Create a story that's real and, when possible, is based on real-world events. If the story is hypothetical, be sure the audience understands that. This is where a visual storytelling tool, such as Shorthand, can be helpful.\n",
    "\n",
    "<b>5. Gauge audience response and sum up</b>\n",
    "Whether you're standing at a podium or walking around a conference room, make eye contact with the audience, watch body language, and listen to their comments and questions. Finally, summarize the story, and answer any follow-on inquiries."
   ]
  },
  {
   "cell_type": "markdown",
   "id": "3e4f6c56",
   "metadata": {},
   "source": [
    "<div style=\"background-color: lightgreen; color: black; padding: 4px;\">\n",
    "    <h2>Examples of good data stories\n",
    "\n",
    "</h2> </div>\n",
    "\n",
    "\n"
   ]
  },
  {
   "cell_type": "markdown",
   "id": "a8302a66",
   "metadata": {},
   "source": [
    "Data storytellers have become increasingly popular. For example, the Spotify music app sends out recap stories annually to its users. On Dec. 1 of each year, users get a wrap-up of their music and podcast consumption with statistics based on all the music they listened to that year. Seeing this data offers an engaging way for users to understand their music listening patterns.\n",
    "\n",
    "Similarly, Slack sends an email to its customers that consists of a visual story that expresses key insights on how they've used the service.\n",
    "\n",
    "Automated Insights' natural language generation software turns data into human-sounding narratives. For example, statistics from a basketball game can become a news story. A company's sales and marketing data can be used to generate a press release"
   ]
  },
  {
   "cell_type": "markdown",
   "id": "151baf7a",
   "metadata": {},
   "source": [
    "<div style=\"background-color: lightblue; color: white; padding: 10px; text-align: center;\">\n",
    "    <h1>_________________________________END________________________________\n",
    "<!--- Devashish Kumar | Tech Skills Trainer | CodroidHub Private Limited | AI/ML Consultant --->\n",
    "    </h1> </div>"
   ]
  },
  {
   "cell_type": "markdown",
   "id": "41de813a",
   "metadata": {},
   "source": [
    "<div style=\"background-color: #002147; color: #fff; padding: 30px; text-align: center;\">\n",
    "    <h1>THANK YOU!\n",
    "        <!--- Devashish Kumar | Tech Skills Trainer | CodroidHub Private Limited | AI/ML Consultant --->\n",
    "</h1> </div>"
   ]
  },
  {
   "cell_type": "markdown",
   "id": "63050732",
   "metadata": {},
   "source": []
  }
 ],
 "metadata": {
  "language_info": {
   "name": "python"
  }
 },
 "nbformat": 4,
 "nbformat_minor": 5
}
