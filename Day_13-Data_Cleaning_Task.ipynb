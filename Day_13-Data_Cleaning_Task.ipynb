{
 "cells": [
  {
   "cell_type": "code",
   "execution_count": 2,
   "id": "d265e605",
   "metadata": {},
   "outputs": [],
   "source": [
    "#Import neccessary libraries\n",
    "import pandas as pd"
   ]
  },
  {
   "cell_type": "code",
   "execution_count": 3,
   "id": "4fd8ed57",
   "metadata": {},
   "outputs": [
    {
     "data": {
      "text/html": [
       "<div>\n",
       "<style scoped>\n",
       "    .dataframe tbody tr th:only-of-type {\n",
       "        vertical-align: middle;\n",
       "    }\n",
       "\n",
       "    .dataframe tbody tr th {\n",
       "        vertical-align: top;\n",
       "    }\n",
       "\n",
       "    .dataframe thead th {\n",
       "        text-align: right;\n",
       "    }\n",
       "</style>\n",
       "<table border=\"1\" class=\"dataframe\">\n",
       "  <thead>\n",
       "    <tr style=\"text-align: right;\">\n",
       "      <th></th>\n",
       "      <th>ranking</th>\n",
       "      <th>title</th>\n",
       "      <th>location</th>\n",
       "      <th>number students</th>\n",
       "      <th>students staff ratio</th>\n",
       "      <th>perc intl students</th>\n",
       "      <th>gender ratio</th>\n",
       "    </tr>\n",
       "  </thead>\n",
       "  <tbody>\n",
       "    <tr>\n",
       "      <th>0</th>\n",
       "      <td>1</td>\n",
       "      <td>University of Oxford</td>\n",
       "      <td>United Kingdom</td>\n",
       "      <td>20,774</td>\n",
       "      <td>11.1</td>\n",
       "      <td>41%</td>\n",
       "      <td>46 : 54</td>\n",
       "    </tr>\n",
       "    <tr>\n",
       "      <th>1</th>\n",
       "      <td>2</td>\n",
       "      <td>Stanford University</td>\n",
       "      <td>United States</td>\n",
       "      <td>16,223</td>\n",
       "      <td>7.4</td>\n",
       "      <td>23%</td>\n",
       "      <td>44 : 56</td>\n",
       "    </tr>\n",
       "    <tr>\n",
       "      <th>2</th>\n",
       "      <td>3</td>\n",
       "      <td>Harvard University</td>\n",
       "      <td>United States</td>\n",
       "      <td>21,261</td>\n",
       "      <td>9.3</td>\n",
       "      <td>25%</td>\n",
       "      <td>49 : 51</td>\n",
       "    </tr>\n",
       "    <tr>\n",
       "      <th>3</th>\n",
       "      <td>4</td>\n",
       "      <td>California Institute of Technology</td>\n",
       "      <td>United States</td>\n",
       "      <td>2,238</td>\n",
       "      <td>6.3</td>\n",
       "      <td>33%</td>\n",
       "      <td>36 : 64</td>\n",
       "    </tr>\n",
       "    <tr>\n",
       "      <th>4</th>\n",
       "      <td>5</td>\n",
       "      <td>Massachusetts Institute of Technology</td>\n",
       "      <td>United States</td>\n",
       "      <td>11,276</td>\n",
       "      <td>8.4</td>\n",
       "      <td>34%</td>\n",
       "      <td>39 : 61</td>\n",
       "    </tr>\n",
       "    <tr>\n",
       "      <th>...</th>\n",
       "      <td>...</td>\n",
       "      <td>...</td>\n",
       "      <td>...</td>\n",
       "      <td>...</td>\n",
       "      <td>...</td>\n",
       "      <td>...</td>\n",
       "      <td>...</td>\n",
       "    </tr>\n",
       "    <tr>\n",
       "      <th>1521</th>\n",
       "      <td>1522</td>\n",
       "      <td>Yuan Ze University</td>\n",
       "      <td>Taiwan</td>\n",
       "      <td>8,188</td>\n",
       "      <td>19.7</td>\n",
       "      <td>7%</td>\n",
       "      <td>42 : 58</td>\n",
       "    </tr>\n",
       "    <tr>\n",
       "      <th>1522</th>\n",
       "      <td>1523</td>\n",
       "      <td>Yuriy Fedkovych Chernivtsi National University</td>\n",
       "      <td>Ukraine</td>\n",
       "      <td>12,616</td>\n",
       "      <td>10.7</td>\n",
       "      <td>0%</td>\n",
       "      <td>57 : 43</td>\n",
       "    </tr>\n",
       "    <tr>\n",
       "      <th>1523</th>\n",
       "      <td>1524</td>\n",
       "      <td>Zagazig University</td>\n",
       "      <td>Egypt</td>\n",
       "      <td>156,270</td>\n",
       "      <td>24.4</td>\n",
       "      <td>2%</td>\n",
       "      <td>54 : 46</td>\n",
       "    </tr>\n",
       "    <tr>\n",
       "      <th>1524</th>\n",
       "      <td>1525</td>\n",
       "      <td>University of Zagreb</td>\n",
       "      <td>Croatia</td>\n",
       "      <td>59,336</td>\n",
       "      <td>15.3</td>\n",
       "      <td>3%</td>\n",
       "      <td>59 : 41</td>\n",
       "    </tr>\n",
       "    <tr>\n",
       "      <th>1525</th>\n",
       "      <td>1526</td>\n",
       "      <td>University of Žilina</td>\n",
       "      <td>Slovakia</td>\n",
       "      <td>7,136</td>\n",
       "      <td>11.7</td>\n",
       "      <td>2%</td>\n",
       "      <td>34 : 66</td>\n",
       "    </tr>\n",
       "  </tbody>\n",
       "</table>\n",
       "<p>1526 rows × 7 columns</p>\n",
       "</div>"
      ],
      "text/plain": [
       "      ranking                                           title        location  \\\n",
       "0           1                            University of Oxford  United Kingdom   \n",
       "1           2                             Stanford University   United States   \n",
       "2           3                              Harvard University   United States   \n",
       "3           4              California Institute of Technology   United States   \n",
       "4           5           Massachusetts Institute of Technology   United States   \n",
       "...       ...                                             ...             ...   \n",
       "1521     1522                              Yuan Ze University          Taiwan   \n",
       "1522     1523  Yuriy Fedkovych Chernivtsi National University         Ukraine   \n",
       "1523     1524                              Zagazig University           Egypt   \n",
       "1524     1525                            University of Zagreb         Croatia   \n",
       "1525     1526                            University of Žilina        Slovakia   \n",
       "\n",
       "     number students  students staff ratio perc intl students gender ratio  \n",
       "0             20,774                  11.1                41%      46 : 54  \n",
       "1             16,223                   7.4                23%      44 : 56  \n",
       "2             21,261                   9.3                25%      49 : 51  \n",
       "3              2,238                   6.3                33%      36 : 64  \n",
       "4             11,276                   8.4                34%      39 : 61  \n",
       "...              ...                   ...                ...          ...  \n",
       "1521           8,188                  19.7                 7%      42 : 58  \n",
       "1522          12,616                  10.7                 0%      57 : 43  \n",
       "1523         156,270                  24.4                 2%      54 : 46  \n",
       "1524          59,336                  15.3                 3%      59 : 41  \n",
       "1525           7,136                  11.7                 2%      34 : 66  \n",
       "\n",
       "[1526 rows x 7 columns]"
      ]
     },
     "execution_count": 3,
     "metadata": {},
     "output_type": "execute_result"
    }
   ],
   "source": [
    "#Read csv file\n",
    "\n",
    "df=pd.read_csv(\"universities_ranking.csv\")\n",
    "df  "
   ]
  },
  {
   "cell_type": "code",
   "execution_count": 4,
   "id": "b7e8fcad",
   "metadata": {},
   "outputs": [
    {
     "data": {
      "text/html": [
       "<div>\n",
       "<style scoped>\n",
       "    .dataframe tbody tr th:only-of-type {\n",
       "        vertical-align: middle;\n",
       "    }\n",
       "\n",
       "    .dataframe tbody tr th {\n",
       "        vertical-align: top;\n",
       "    }\n",
       "\n",
       "    .dataframe thead th {\n",
       "        text-align: right;\n",
       "    }\n",
       "</style>\n",
       "<table border=\"1\" class=\"dataframe\">\n",
       "  <thead>\n",
       "    <tr style=\"text-align: right;\">\n",
       "      <th></th>\n",
       "      <th>ranking</th>\n",
       "      <th>title</th>\n",
       "      <th>location</th>\n",
       "      <th>number students</th>\n",
       "      <th>students staff ratio</th>\n",
       "      <th>perc intl students</th>\n",
       "      <th>gender ratio</th>\n",
       "    </tr>\n",
       "  </thead>\n",
       "  <tbody>\n",
       "    <tr>\n",
       "      <th>1521</th>\n",
       "      <td>1522</td>\n",
       "      <td>Yuan Ze University</td>\n",
       "      <td>Taiwan</td>\n",
       "      <td>8,188</td>\n",
       "      <td>19.7</td>\n",
       "      <td>7%</td>\n",
       "      <td>42 : 58</td>\n",
       "    </tr>\n",
       "    <tr>\n",
       "      <th>1522</th>\n",
       "      <td>1523</td>\n",
       "      <td>Yuriy Fedkovych Chernivtsi National University</td>\n",
       "      <td>Ukraine</td>\n",
       "      <td>12,616</td>\n",
       "      <td>10.7</td>\n",
       "      <td>0%</td>\n",
       "      <td>57 : 43</td>\n",
       "    </tr>\n",
       "    <tr>\n",
       "      <th>1523</th>\n",
       "      <td>1524</td>\n",
       "      <td>Zagazig University</td>\n",
       "      <td>Egypt</td>\n",
       "      <td>156,270</td>\n",
       "      <td>24.4</td>\n",
       "      <td>2%</td>\n",
       "      <td>54 : 46</td>\n",
       "    </tr>\n",
       "    <tr>\n",
       "      <th>1524</th>\n",
       "      <td>1525</td>\n",
       "      <td>University of Zagreb</td>\n",
       "      <td>Croatia</td>\n",
       "      <td>59,336</td>\n",
       "      <td>15.3</td>\n",
       "      <td>3%</td>\n",
       "      <td>59 : 41</td>\n",
       "    </tr>\n",
       "    <tr>\n",
       "      <th>1525</th>\n",
       "      <td>1526</td>\n",
       "      <td>University of Žilina</td>\n",
       "      <td>Slovakia</td>\n",
       "      <td>7,136</td>\n",
       "      <td>11.7</td>\n",
       "      <td>2%</td>\n",
       "      <td>34 : 66</td>\n",
       "    </tr>\n",
       "  </tbody>\n",
       "</table>\n",
       "</div>"
      ],
      "text/plain": [
       "      ranking                                           title  location  \\\n",
       "1521     1522                              Yuan Ze University    Taiwan   \n",
       "1522     1523  Yuriy Fedkovych Chernivtsi National University   Ukraine   \n",
       "1523     1524                              Zagazig University     Egypt   \n",
       "1524     1525                            University of Zagreb   Croatia   \n",
       "1525     1526                            University of Žilina  Slovakia   \n",
       "\n",
       "     number students  students staff ratio perc intl students gender ratio  \n",
       "1521           8,188                  19.7                 7%      42 : 58  \n",
       "1522          12,616                  10.7                 0%      57 : 43  \n",
       "1523         156,270                  24.4                 2%      54 : 46  \n",
       "1524          59,336                  15.3                 3%      59 : 41  \n",
       "1525           7,136                  11.7                 2%      34 : 66  "
      ]
     },
     "execution_count": 4,
     "metadata": {},
     "output_type": "execute_result"
    }
   ],
   "source": [
    "#Print first 5 rows of the data\n",
    "df.tail()\n"
   ]
  },
  {
   "cell_type": "code",
   "execution_count": 6,
   "id": "d7bfb160",
   "metadata": {},
   "outputs": [
    {
     "name": "stdout",
     "output_type": "stream",
     "text": [
      "<class 'pandas.core.frame.DataFrame'>\n",
      "RangeIndex: 1526 entries, 0 to 1525\n",
      "Data columns (total 7 columns):\n",
      " #   Column                Non-Null Count  Dtype  \n",
      "---  ------                --------------  -----  \n",
      " 0   ranking               1526 non-null   int64  \n",
      " 1   title                 1526 non-null   object \n",
      " 2   location              1526 non-null   object \n",
      " 3   number students       1526 non-null   object \n",
      " 4   students staff ratio  1526 non-null   float64\n",
      " 5   perc intl students    1526 non-null   object \n",
      " 6   gender ratio          1453 non-null   object \n",
      "dtypes: float64(1), int64(1), object(5)\n",
      "memory usage: 83.6+ KB\n"
     ]
    }
   ],
   "source": [
    "#To check the data types and null values in the dataframe\n",
    "df.info()\n"
   ]
  },
  {
   "cell_type": "code",
   "execution_count": 7,
   "id": "b7a32152",
   "metadata": {},
   "outputs": [
    {
     "data": {
      "text/html": [
       "<div>\n",
       "<style scoped>\n",
       "    .dataframe tbody tr th:only-of-type {\n",
       "        vertical-align: middle;\n",
       "    }\n",
       "\n",
       "    .dataframe tbody tr th {\n",
       "        vertical-align: top;\n",
       "    }\n",
       "\n",
       "    .dataframe thead th {\n",
       "        text-align: right;\n",
       "    }\n",
       "</style>\n",
       "<table border=\"1\" class=\"dataframe\">\n",
       "  <thead>\n",
       "    <tr style=\"text-align: right;\">\n",
       "      <th></th>\n",
       "      <th>ranking</th>\n",
       "      <th>students staff ratio</th>\n",
       "    </tr>\n",
       "  </thead>\n",
       "  <tbody>\n",
       "    <tr>\n",
       "      <th>count</th>\n",
       "      <td>1526.000000</td>\n",
       "      <td>1526.000000</td>\n",
       "    </tr>\n",
       "    <tr>\n",
       "      <th>mean</th>\n",
       "      <td>763.500000</td>\n",
       "      <td>18.778571</td>\n",
       "    </tr>\n",
       "    <tr>\n",
       "      <th>std</th>\n",
       "      <td>440.662569</td>\n",
       "      <td>13.818076</td>\n",
       "    </tr>\n",
       "    <tr>\n",
       "      <th>min</th>\n",
       "      <td>1.000000</td>\n",
       "      <td>0.900000</td>\n",
       "    </tr>\n",
       "    <tr>\n",
       "      <th>25%</th>\n",
       "      <td>382.250000</td>\n",
       "      <td>12.200000</td>\n",
       "    </tr>\n",
       "    <tr>\n",
       "      <th>50%</th>\n",
       "      <td>763.500000</td>\n",
       "      <td>16.100000</td>\n",
       "    </tr>\n",
       "    <tr>\n",
       "      <th>75%</th>\n",
       "      <td>1144.750000</td>\n",
       "      <td>21.875000</td>\n",
       "    </tr>\n",
       "    <tr>\n",
       "      <th>max</th>\n",
       "      <td>1526.000000</td>\n",
       "      <td>339.100000</td>\n",
       "    </tr>\n",
       "  </tbody>\n",
       "</table>\n",
       "</div>"
      ],
      "text/plain": [
       "           ranking  students staff ratio\n",
       "count  1526.000000           1526.000000\n",
       "mean    763.500000             18.778571\n",
       "std     440.662569             13.818076\n",
       "min       1.000000              0.900000\n",
       "25%     382.250000             12.200000\n",
       "50%     763.500000             16.100000\n",
       "75%    1144.750000             21.875000\n",
       "max    1526.000000            339.100000"
      ]
     },
     "execution_count": 7,
     "metadata": {},
     "output_type": "execute_result"
    }
   ],
   "source": [
    "#check for the summeray statistics of the numerical columns in the dataframe\n",
    "df.describe()"
   ]
  },
  {
   "cell_type": "code",
   "execution_count": 8,
   "id": "fb35a945",
   "metadata": {},
   "outputs": [
    {
     "data": {
      "text/html": [
       "<div>\n",
       "<style scoped>\n",
       "    .dataframe tbody tr th:only-of-type {\n",
       "        vertical-align: middle;\n",
       "    }\n",
       "\n",
       "    .dataframe tbody tr th {\n",
       "        vertical-align: top;\n",
       "    }\n",
       "\n",
       "    .dataframe thead th {\n",
       "        text-align: right;\n",
       "    }\n",
       "</style>\n",
       "<table border=\"1\" class=\"dataframe\">\n",
       "  <thead>\n",
       "    <tr style=\"text-align: right;\">\n",
       "      <th></th>\n",
       "      <th>ranking</th>\n",
       "      <th>title</th>\n",
       "      <th>location</th>\n",
       "      <th>number students</th>\n",
       "      <th>students staff ratio</th>\n",
       "      <th>perc intl students</th>\n",
       "      <th>gender ratio</th>\n",
       "    </tr>\n",
       "  </thead>\n",
       "  <tbody>\n",
       "    <tr>\n",
       "      <th>0</th>\n",
       "      <td>1</td>\n",
       "      <td>University of Oxford</td>\n",
       "      <td>United Kingdom</td>\n",
       "      <td>20,774</td>\n",
       "      <td>11.1</td>\n",
       "      <td>41%</td>\n",
       "      <td>46 : 54</td>\n",
       "    </tr>\n",
       "    <tr>\n",
       "      <th>1</th>\n",
       "      <td>2</td>\n",
       "      <td>Stanford University</td>\n",
       "      <td>United States</td>\n",
       "      <td>16,223</td>\n",
       "      <td>7.4</td>\n",
       "      <td>23%</td>\n",
       "      <td>44 : 56</td>\n",
       "    </tr>\n",
       "    <tr>\n",
       "      <th>2</th>\n",
       "      <td>3</td>\n",
       "      <td>Harvard University</td>\n",
       "      <td>United States</td>\n",
       "      <td>21,261</td>\n",
       "      <td>9.3</td>\n",
       "      <td>25%</td>\n",
       "      <td>49 : 51</td>\n",
       "    </tr>\n",
       "    <tr>\n",
       "      <th>3</th>\n",
       "      <td>4</td>\n",
       "      <td>California Institute of Technology</td>\n",
       "      <td>United States</td>\n",
       "      <td>2,238</td>\n",
       "      <td>6.3</td>\n",
       "      <td>33%</td>\n",
       "      <td>36 : 64</td>\n",
       "    </tr>\n",
       "    <tr>\n",
       "      <th>4</th>\n",
       "      <td>5</td>\n",
       "      <td>Massachusetts Institute of Technology</td>\n",
       "      <td>United States</td>\n",
       "      <td>11,276</td>\n",
       "      <td>8.4</td>\n",
       "      <td>34%</td>\n",
       "      <td>39 : 61</td>\n",
       "    </tr>\n",
       "  </tbody>\n",
       "</table>\n",
       "</div>"
      ],
      "text/plain": [
       "   ranking                                  title        location  \\\n",
       "0        1                   University of Oxford  United Kingdom   \n",
       "1        2                    Stanford University   United States   \n",
       "2        3                     Harvard University   United States   \n",
       "3        4     California Institute of Technology   United States   \n",
       "4        5  Massachusetts Institute of Technology   United States   \n",
       "\n",
       "  number students  students staff ratio perc intl students gender ratio  \n",
       "0          20,774                  11.1                41%      46 : 54  \n",
       "1          16,223                   7.4                23%      44 : 56  \n",
       "2          21,261                   9.3                25%      49 : 51  \n",
       "3           2,238                   6.3                33%      36 : 64  \n",
       "4          11,276                   8.4                34%      39 : 61  "
      ]
     },
     "execution_count": 8,
     "metadata": {},
     "output_type": "execute_result"
    }
   ],
   "source": [
    "#check the first 5 rows of the dataframe\n",
    "df.head(5)"
   ]
  },
  {
   "cell_type": "code",
   "execution_count": 9,
   "id": "15632f1a",
   "metadata": {},
   "outputs": [
    {
     "data": {
      "text/html": [
       "<div>\n",
       "<style scoped>\n",
       "    .dataframe tbody tr th:only-of-type {\n",
       "        vertical-align: middle;\n",
       "    }\n",
       "\n",
       "    .dataframe tbody tr th {\n",
       "        vertical-align: top;\n",
       "    }\n",
       "\n",
       "    .dataframe thead th {\n",
       "        text-align: right;\n",
       "    }\n",
       "</style>\n",
       "<table border=\"1\" class=\"dataframe\">\n",
       "  <thead>\n",
       "    <tr style=\"text-align: right;\">\n",
       "      <th></th>\n",
       "      <th>ranking</th>\n",
       "      <th>title</th>\n",
       "      <th>location</th>\n",
       "      <th>number students</th>\n",
       "      <th>students staff ratio</th>\n",
       "      <th>perc intl students</th>\n",
       "      <th>gender ratio</th>\n",
       "    </tr>\n",
       "  </thead>\n",
       "  <tbody>\n",
       "    <tr>\n",
       "      <th>1</th>\n",
       "      <td>2</td>\n",
       "      <td>Stanford University</td>\n",
       "      <td>United States</td>\n",
       "      <td>16,223</td>\n",
       "      <td>7.4</td>\n",
       "      <td>23%</td>\n",
       "      <td>44 : 56</td>\n",
       "    </tr>\n",
       "    <tr>\n",
       "      <th>2</th>\n",
       "      <td>3</td>\n",
       "      <td>Harvard University</td>\n",
       "      <td>United States</td>\n",
       "      <td>21,261</td>\n",
       "      <td>9.3</td>\n",
       "      <td>25%</td>\n",
       "      <td>49 : 51</td>\n",
       "    </tr>\n",
       "    <tr>\n",
       "      <th>3</th>\n",
       "      <td>4</td>\n",
       "      <td>California Institute of Technology</td>\n",
       "      <td>United States</td>\n",
       "      <td>2,238</td>\n",
       "      <td>6.3</td>\n",
       "      <td>33%</td>\n",
       "      <td>36 : 64</td>\n",
       "    </tr>\n",
       "    <tr>\n",
       "      <th>4</th>\n",
       "      <td>5</td>\n",
       "      <td>Massachusetts Institute of Technology</td>\n",
       "      <td>United States</td>\n",
       "      <td>11,276</td>\n",
       "      <td>8.4</td>\n",
       "      <td>34%</td>\n",
       "      <td>39 : 61</td>\n",
       "    </tr>\n",
       "    <tr>\n",
       "      <th>5</th>\n",
       "      <td>6</td>\n",
       "      <td>University of Cambridge</td>\n",
       "      <td>United Kingdom</td>\n",
       "      <td>19,370</td>\n",
       "      <td>11.0</td>\n",
       "      <td>38%</td>\n",
       "      <td>47 : 53</td>\n",
       "    </tr>\n",
       "    <tr>\n",
       "      <th>6</th>\n",
       "      <td>7</td>\n",
       "      <td>University of California, Berkeley</td>\n",
       "      <td>United States</td>\n",
       "      <td>39,918</td>\n",
       "      <td>19.8</td>\n",
       "      <td>17%</td>\n",
       "      <td>51 : 49</td>\n",
       "    </tr>\n",
       "    <tr>\n",
       "      <th>7</th>\n",
       "      <td>8</td>\n",
       "      <td>Yale University</td>\n",
       "      <td>United States</td>\n",
       "      <td>12,910</td>\n",
       "      <td>6.0</td>\n",
       "      <td>20%</td>\n",
       "      <td>50 : 50</td>\n",
       "    </tr>\n",
       "    <tr>\n",
       "      <th>8</th>\n",
       "      <td>9</td>\n",
       "      <td>Princeton University</td>\n",
       "      <td>United States</td>\n",
       "      <td>8,091</td>\n",
       "      <td>8.0</td>\n",
       "      <td>23%</td>\n",
       "      <td>46 : 54</td>\n",
       "    </tr>\n",
       "    <tr>\n",
       "      <th>9</th>\n",
       "      <td>10</td>\n",
       "      <td>The University of Chicago</td>\n",
       "      <td>United States</td>\n",
       "      <td>14,292</td>\n",
       "      <td>5.9</td>\n",
       "      <td>31%</td>\n",
       "      <td>46 : 54</td>\n",
       "    </tr>\n",
       "  </tbody>\n",
       "</table>\n",
       "</div>"
      ],
      "text/plain": [
       "   ranking                                  title        location  \\\n",
       "1        2                    Stanford University   United States   \n",
       "2        3                     Harvard University   United States   \n",
       "3        4     California Institute of Technology   United States   \n",
       "4        5  Massachusetts Institute of Technology   United States   \n",
       "5        6                University of Cambridge  United Kingdom   \n",
       "6        7     University of California, Berkeley   United States   \n",
       "7        8                        Yale University   United States   \n",
       "8        9                   Princeton University   United States   \n",
       "9       10              The University of Chicago   United States   \n",
       "\n",
       "  number students  students staff ratio perc intl students gender ratio  \n",
       "1          16,223                   7.4                23%      44 : 56  \n",
       "2          21,261                   9.3                25%      49 : 51  \n",
       "3           2,238                   6.3                33%      36 : 64  \n",
       "4          11,276                   8.4                34%      39 : 61  \n",
       "5          19,370                  11.0                38%      47 : 53  \n",
       "6          39,918                  19.8                17%      51 : 49  \n",
       "7          12,910                   6.0                20%      50 : 50  \n",
       "8           8,091                   8.0                23%      46 : 54  \n",
       "9          14,292                   5.9                31%      46 : 54  "
      ]
     },
     "execution_count": 9,
     "metadata": {},
     "output_type": "execute_result"
    }
   ],
   "source": [
    "#to get the first 10 rows of the dataframe\n",
    "df.iloc[1:10]   ##iloc is used to access a group of rows and columns by labels or a boolean array"
   ]
  },
  {
   "cell_type": "code",
   "execution_count": 10,
   "id": "48e871a8",
   "metadata": {},
   "outputs": [
    {
     "data": {
      "text/plain": [
       "ranking                  0\n",
       "title                    0\n",
       "location                 0\n",
       "number students          0\n",
       "students staff ratio     0\n",
       "perc intl students       0\n",
       "gender ratio            73\n",
       "dtype: int64"
      ]
     },
     "execution_count": 10,
     "metadata": {},
     "output_type": "execute_result"
    }
   ],
   "source": [
    "#Checking for the missing values in each column\n",
    "df.isnull().sum()"
   ]
  },
  {
   "cell_type": "code",
   "execution_count": 15,
   "id": "bf834ad9",
   "metadata": {},
   "outputs": [
    {
     "data": {
      "text/plain": [
       "np.int64(0)"
      ]
     },
     "execution_count": 15,
     "metadata": {},
     "output_type": "execute_result"
    }
   ],
   "source": [
    "#particularly checking for the missing values in the column 'location' \n",
    "df['location'] .isnull().sum()"
   ]
  },
  {
   "cell_type": "code",
   "execution_count": 17,
   "id": "1147c4ec",
   "metadata": {},
   "outputs": [
    {
     "data": {
      "text/plain": [
       "title            0\n",
       "gender ratio    73\n",
       "location         0\n",
       "dtype: int64"
      ]
     },
     "execution_count": 17,
     "metadata": {},
     "output_type": "execute_result"
    }
   ],
   "source": [
    "#multiple columns check for missing values\n",
    "df[['title','gender ratio','location']].isnull().sum()"
   ]
  },
  {
   "cell_type": "code",
   "execution_count": 18,
   "id": "ecf4bc4f",
   "metadata": {},
   "outputs": [
    {
     "data": {
      "text/plain": [
       "np.int64(0)"
      ]
     },
     "execution_count": 18,
     "metadata": {},
     "output_type": "execute_result"
    }
   ],
   "source": [
    "#check for the duplicate rows in the dataframe\n",
    "df.duplicated().sum()"
   ]
  },
  {
   "cell_type": "markdown",
   "id": "6a680066",
   "metadata": {},
   "source": [
    "### Handle these errors or anomilies"
   ]
  },
  {
   "cell_type": "code",
   "execution_count": 23,
   "id": "961c9682",
   "metadata": {},
   "outputs": [
    {
     "data": {
      "text/plain": [
       "ranking                 0\n",
       "title                   0\n",
       "location                0\n",
       "number students         0\n",
       "students staff ratio    0\n",
       "perc intl students      0\n",
       "gender ratio            0\n",
       "dtype: int64"
      ]
     },
     "execution_count": 23,
     "metadata": {},
     "output_type": "execute_result"
    }
   ],
   "source": [
    "#drop rows with any missing values\n",
    "df_listwise_deletion=df.dropna()\n",
    "\n",
    "#drop rows with missing values in gender ratio\n",
    "df_pairwise_deletion=df.dropna(subset=['gender ratio'])\n",
    "df_pairwise_deletion.isnull().sum()\n",
    "df_listwise_deletion.isnull().sum()"
   ]
  },
  {
   "cell_type": "markdown",
   "id": "fcabd855",
   "metadata": {},
   "source": [
    "### IMPUTATION-IMPUTE-FILLING THE VALUES"
   ]
  },
  {
   "cell_type": "markdown",
   "id": "2865e7d2",
   "metadata": {},
   "source": []
  },
  {
   "cell_type": "code",
   "execution_count": 24,
   "id": "7324d9e5",
   "metadata": {},
   "outputs": [
    {
     "data": {
      "text/plain": [
       "ranking                  0\n",
       "title                    0\n",
       "location                 0\n",
       "number students          0\n",
       "students staff ratio     0\n",
       "perc intl students       0\n",
       "gender ratio            73\n",
       "dtype: int64"
      ]
     },
     "execution_count": 24,
     "metadata": {},
     "output_type": "execute_result"
    }
   ],
   "source": [
    "df.isnull().sum()"
   ]
  },
  {
   "cell_type": "code",
   "execution_count": 25,
   "id": "74acbd18",
   "metadata": {},
   "outputs": [
    {
     "data": {
      "text/html": [
       "<div>\n",
       "<style scoped>\n",
       "    .dataframe tbody tr th:only-of-type {\n",
       "        vertical-align: middle;\n",
       "    }\n",
       "\n",
       "    .dataframe tbody tr th {\n",
       "        vertical-align: top;\n",
       "    }\n",
       "\n",
       "    .dataframe thead th {\n",
       "        text-align: right;\n",
       "    }\n",
       "</style>\n",
       "<table border=\"1\" class=\"dataframe\">\n",
       "  <thead>\n",
       "    <tr style=\"text-align: right;\">\n",
       "      <th></th>\n",
       "      <th>ranking</th>\n",
       "      <th>title</th>\n",
       "      <th>location</th>\n",
       "      <th>number students</th>\n",
       "      <th>students staff ratio</th>\n",
       "      <th>perc intl students</th>\n",
       "      <th>gender ratio</th>\n",
       "    </tr>\n",
       "  </thead>\n",
       "  <tbody>\n",
       "    <tr>\n",
       "      <th>0</th>\n",
       "      <td>1</td>\n",
       "      <td>University of Oxford</td>\n",
       "      <td>United Kingdom</td>\n",
       "      <td>20,774</td>\n",
       "      <td>11.1</td>\n",
       "      <td>41%</td>\n",
       "      <td>46 : 54</td>\n",
       "    </tr>\n",
       "    <tr>\n",
       "      <th>1</th>\n",
       "      <td>2</td>\n",
       "      <td>Stanford University</td>\n",
       "      <td>United States</td>\n",
       "      <td>16,223</td>\n",
       "      <td>7.4</td>\n",
       "      <td>23%</td>\n",
       "      <td>44 : 56</td>\n",
       "    </tr>\n",
       "    <tr>\n",
       "      <th>2</th>\n",
       "      <td>3</td>\n",
       "      <td>Harvard University</td>\n",
       "      <td>United States</td>\n",
       "      <td>21,261</td>\n",
       "      <td>9.3</td>\n",
       "      <td>25%</td>\n",
       "      <td>49 : 51</td>\n",
       "    </tr>\n",
       "    <tr>\n",
       "      <th>3</th>\n",
       "      <td>4</td>\n",
       "      <td>California Institute of Technology</td>\n",
       "      <td>United States</td>\n",
       "      <td>2,238</td>\n",
       "      <td>6.3</td>\n",
       "      <td>33%</td>\n",
       "      <td>36 : 64</td>\n",
       "    </tr>\n",
       "    <tr>\n",
       "      <th>4</th>\n",
       "      <td>5</td>\n",
       "      <td>Massachusetts Institute of Technology</td>\n",
       "      <td>United States</td>\n",
       "      <td>11,276</td>\n",
       "      <td>8.4</td>\n",
       "      <td>34%</td>\n",
       "      <td>39 : 61</td>\n",
       "    </tr>\n",
       "    <tr>\n",
       "      <th>...</th>\n",
       "      <td>...</td>\n",
       "      <td>...</td>\n",
       "      <td>...</td>\n",
       "      <td>...</td>\n",
       "      <td>...</td>\n",
       "      <td>...</td>\n",
       "      <td>...</td>\n",
       "    </tr>\n",
       "    <tr>\n",
       "      <th>1521</th>\n",
       "      <td>1522</td>\n",
       "      <td>Yuan Ze University</td>\n",
       "      <td>Taiwan</td>\n",
       "      <td>8,188</td>\n",
       "      <td>19.7</td>\n",
       "      <td>7%</td>\n",
       "      <td>42 : 58</td>\n",
       "    </tr>\n",
       "    <tr>\n",
       "      <th>1522</th>\n",
       "      <td>1523</td>\n",
       "      <td>Yuriy Fedkovych Chernivtsi National University</td>\n",
       "      <td>Ukraine</td>\n",
       "      <td>12,616</td>\n",
       "      <td>10.7</td>\n",
       "      <td>0%</td>\n",
       "      <td>57 : 43</td>\n",
       "    </tr>\n",
       "    <tr>\n",
       "      <th>1523</th>\n",
       "      <td>1524</td>\n",
       "      <td>Zagazig University</td>\n",
       "      <td>Egypt</td>\n",
       "      <td>156,270</td>\n",
       "      <td>24.4</td>\n",
       "      <td>2%</td>\n",
       "      <td>54 : 46</td>\n",
       "    </tr>\n",
       "    <tr>\n",
       "      <th>1524</th>\n",
       "      <td>1525</td>\n",
       "      <td>University of Zagreb</td>\n",
       "      <td>Croatia</td>\n",
       "      <td>59,336</td>\n",
       "      <td>15.3</td>\n",
       "      <td>3%</td>\n",
       "      <td>59 : 41</td>\n",
       "    </tr>\n",
       "    <tr>\n",
       "      <th>1525</th>\n",
       "      <td>1526</td>\n",
       "      <td>University of Žilina</td>\n",
       "      <td>Slovakia</td>\n",
       "      <td>7,136</td>\n",
       "      <td>11.7</td>\n",
       "      <td>2%</td>\n",
       "      <td>34 : 66</td>\n",
       "    </tr>\n",
       "  </tbody>\n",
       "</table>\n",
       "<p>1526 rows × 7 columns</p>\n",
       "</div>"
      ],
      "text/plain": [
       "      ranking                                           title        location  \\\n",
       "0           1                            University of Oxford  United Kingdom   \n",
       "1           2                             Stanford University   United States   \n",
       "2           3                              Harvard University   United States   \n",
       "3           4              California Institute of Technology   United States   \n",
       "4           5           Massachusetts Institute of Technology   United States   \n",
       "...       ...                                             ...             ...   \n",
       "1521     1522                              Yuan Ze University          Taiwan   \n",
       "1522     1523  Yuriy Fedkovych Chernivtsi National University         Ukraine   \n",
       "1523     1524                              Zagazig University           Egypt   \n",
       "1524     1525                            University of Zagreb         Croatia   \n",
       "1525     1526                            University of Žilina        Slovakia   \n",
       "\n",
       "     number students  students staff ratio perc intl students gender ratio  \n",
       "0             20,774                  11.1                41%      46 : 54  \n",
       "1             16,223                   7.4                23%      44 : 56  \n",
       "2             21,261                   9.3                25%      49 : 51  \n",
       "3              2,238                   6.3                33%      36 : 64  \n",
       "4             11,276                   8.4                34%      39 : 61  \n",
       "...              ...                   ...                ...          ...  \n",
       "1521           8,188                  19.7                 7%      42 : 58  \n",
       "1522          12,616                  10.7                 0%      57 : 43  \n",
       "1523         156,270                  24.4                 2%      54 : 46  \n",
       "1524          59,336                  15.3                 3%      59 : 41  \n",
       "1525           7,136                  11.7                 2%      34 : 66  \n",
       "\n",
       "[1526 rows x 7 columns]"
      ]
     },
     "execution_count": 25,
     "metadata": {},
     "output_type": "execute_result"
    }
   ],
   "source": [
    "df"
   ]
  },
  {
   "cell_type": "code",
   "execution_count": 33,
   "id": "024b2358",
   "metadata": {},
   "outputs": [
    {
     "name": "stdout",
     "output_type": "stream",
     "text": [
      "object\n"
     ]
    }
   ],
   "source": [
    "# check the datatype of the gender ratio column\n",
    "print(df['gender ratio'].dtype)"
   ]
  },
  {
   "cell_type": "code",
   "execution_count": 36,
   "id": "df1f281b",
   "metadata": {},
   "outputs": [],
   "source": [
    "# Convert the object datatype into numeric datatype\n",
    "import pandas as pd  # importing the pandas library for mathematic computation\n",
    "\n",
    "df['gender ratio']=pd.to_numeric(df['gender ratio'],\n",
    "errors='coerce')    #used for-any non numeric values(like text) will be converted to NAN(missing values)"
   ]
  },
  {
   "cell_type": "code",
   "execution_count": 37,
   "id": "6611d5c2",
   "metadata": {},
   "outputs": [
    {
     "data": {
      "text/plain": [
       "nan"
      ]
     },
     "execution_count": 37,
     "metadata": {},
     "output_type": "execute_result"
    }
   ],
   "source": [
    "# Calculate the mean of the 'gender ratio' column\n",
    "mean_gender_ratio=df['gender ratio'].mean()\n",
    "mean_gender_ratio\n"
   ]
  },
  {
   "cell_type": "code",
   "execution_count": 30,
   "id": "14e5b12b",
   "metadata": {},
   "outputs": [],
   "source": [
    "#create a copy of the dataframe to avoid modifying the original dataframe\n",
    "\n",
    "df_new=df.copy()"
   ]
  },
  {
   "cell_type": "code",
   "execution_count": 38,
   "id": "4e5a13be",
   "metadata": {},
   "outputs": [
    {
     "data": {
      "text/plain": [
       "0       46 : 54\n",
       "1       44 : 56\n",
       "2       49 : 51\n",
       "3       36 : 64\n",
       "4       39 : 61\n",
       "         ...   \n",
       "1521    42 : 58\n",
       "1522    57 : 43\n",
       "1523    54 : 46\n",
       "1524    59 : 41\n",
       "1525    34 : 66\n",
       "Name: gender ratio, Length: 1526, dtype: object"
      ]
     },
     "execution_count": 38,
     "metadata": {},
     "output_type": "execute_result"
    }
   ],
   "source": [
    "#filling missing values in 'gender ratio' with the mean value \n",
    "\n",
    "df_new['gender ratio'].fillna(mean_gender_ratio)  \n"
   ]
  },
  {
   "cell_type": "code",
   "execution_count": 39,
   "id": "91689904",
   "metadata": {},
   "outputs": [
    {
     "data": {
      "text/plain": [
       "nan"
      ]
     },
     "execution_count": 39,
     "metadata": {},
     "output_type": "execute_result"
    }
   ],
   "source": [
    "#for removing the decimal part from the data use floor division\n",
    "\n",
    "mean_gender_ratio//1"
   ]
  },
  {
   "cell_type": "code",
   "execution_count": 44,
   "id": "3bd99bb9",
   "metadata": {},
   "outputs": [
    {
     "data": {
      "text/plain": [
       "np.float64(16.1)"
      ]
     },
     "execution_count": 44,
     "metadata": {},
     "output_type": "execute_result"
    }
   ],
   "source": [
    "#calculate the median for the 'students staff ratio'\n",
    "\n",
    "median_students_staff_ratio=df['students staff ratio'].median()\n",
    "median_students_staff_ratio"
   ]
  },
  {
   "cell_type": "code",
   "execution_count": 46,
   "id": "ffbaf0e7",
   "metadata": {},
   "outputs": [
    {
     "data": {
      "text/plain": [
       "np.float64(14.8)"
      ]
     },
     "execution_count": 46,
     "metadata": {},
     "output_type": "execute_result"
    }
   ],
   "source": [
    "#calculate the mode of the students staff ratio\n",
    "\n",
    "mode_student_staff_ratio=df['students staff ratio'].mode()[0]\n",
    "mode_student_staff_ratio"
   ]
  },
  {
   "cell_type": "code",
   "execution_count": null,
   "id": "ac284769",
   "metadata": {},
   "outputs": [],
   "source": []
  }
 ],
 "metadata": {
  "kernelspec": {
   "display_name": "Python 3",
   "language": "python",
   "name": "python3"
  },
  "language_info": {
   "codemirror_mode": {
    "name": "ipython",
    "version": 3
   },
   "file_extension": ".py",
   "mimetype": "text/x-python",
   "name": "python",
   "nbconvert_exporter": "python",
   "pygments_lexer": "ipython3",
   "version": "3.11.4"
  }
 },
 "nbformat": 4,
 "nbformat_minor": 5
}
