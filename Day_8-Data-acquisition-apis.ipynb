{
 "cells": [
  {
   "cell_type": "code",
   "execution_count": null,
   "id": "552f78e7",
   "metadata": {},
   "outputs": [],
   "source": []
  },
  {
   "cell_type": "markdown",
   "id": "8bc8033c",
   "metadata": {},
   "source": [
    "<B>Dog CEO</B>"
   ]
  },
  {
   "cell_type": "code",
   "execution_count": 4,
   "id": "b23cbdbf",
   "metadata": {},
   "outputs": [],
   "source": [
    "#import the requests library\n",
    "\n",
    "import requests"
   ]
  },
  {
   "cell_type": "code",
   "execution_count": 5,
   "id": "9b1a2d24",
   "metadata": {},
   "outputs": [],
   "source": [
    "#API endpoint\n",
    "\n",
    "url=\"https://dog.ceo/api/breeds/image/random\""
   ]
  },
  {
   "cell_type": "code",
   "execution_count": 6,
   "id": "55087562",
   "metadata": {},
   "outputs": [],
   "source": [
    "#Get request to fetch a random dog image\n",
    "response=requests.get(url)"
   ]
  },
  {
   "cell_type": "code",
   "execution_count": 7,
   "id": "eb6c8432",
   "metadata": {},
   "outputs": [
    {
     "data": {
      "text/plain": [
       "200"
      ]
     },
     "execution_count": 7,
     "metadata": {},
     "output_type": "execute_result"
    }
   ],
   "source": [
    "#Check if the request was successful\n",
    "response.status_code"
   ]
  },
  {
   "cell_type": "code",
   "execution_count": 8,
   "id": "0c10b6a1",
   "metadata": {},
   "outputs": [
    {
     "data": {
      "text/plain": [
       "{'message': 'https://images.dog.ceo/breeds/setter-gordon/n02101006_1435.jpg',\n",
       " 'status': 'success'}"
      ]
     },
     "execution_count": 8,
     "metadata": {},
     "output_type": "execute_result"
    }
   ],
   "source": [
    "# Extract the JSON content from the response\n",
    "data = response.json()\n",
    "data"
   ]
  },
  {
   "cell_type": "code",
   "execution_count": 9,
   "id": "8b0bc32c",
   "metadata": {},
   "outputs": [
    {
     "name": "stdout",
     "output_type": "stream",
     "text": [
      "Random dog image url below:\n",
      "\n",
      " https://images.dog.ceo/breeds/setter-gordon/n02101006_1435.jpg\n"
     ]
    }
   ],
   "source": [
    "if response.status_code==200:\n",
    "    data=response.json()\n",
    "\n",
    "    #Extract the image url from the json data\n",
    "    dog_img=data['message']\n",
    "    print(\"Random dog image url below:\\n\\n\",dog_img)\n",
    "else:\n",
    "    print(\"Failed to retrieve data.Status_code: \",response.status_coe)\n"
   ]
  },
  {
   "cell_type": "code",
   "execution_count": 10,
   "id": "8246e013",
   "metadata": {},
   "outputs": [],
   "source": [
    "#URL,print the actual image of the Url here\n",
    "from IPython.display import HTML"
   ]
  },
  {
   "cell_type": "code",
   "execution_count": 11,
   "id": "5ec50f4e",
   "metadata": {},
   "outputs": [
    {
     "data": {
      "text/html": [
       "<img src=\"https://images.dog.ceo/breeds/setter-gordon/n02101006_1435.jpg\" width=\"500 height=\"500\">"
      ],
      "text/plain": [
       "<IPython.core.display.HTML object>"
      ]
     },
     "execution_count": 11,
     "metadata": {},
     "output_type": "execute_result"
    }
   ],
   "source": [
    "HTML(f'<img src=\"{dog_img}\" width=\"500 height=\"500\">')\n"
   ]
  },
  {
   "cell_type": "code",
   "execution_count": null,
   "id": "088def43",
   "metadata": {},
   "outputs": [
    {
     "name": "stdout",
     "output_type": "stream",
     "text": [
      "Random dog image url below:\n",
      "\n",
      " https://images.dog.ceo/breeds/havanese/00100trPORTRAIT_00100_BURST20191126134713895_COVER.jpg\n"
     ]
    },
    {
     "data": {
      "text/html": [
       "<img src=\"https://images.dog.ceo/breeds/havanese/00100trPORTRAIT_00100_BURST20191126134713895_COVER.jpg\" width=\"500 height=\"500\">"
      ],
      "text/plain": [
       "<IPython.core.display.HTML object>"
      ]
     },
     "execution_count": 15,
     "metadata": {},
     "output_type": "execute_result"
    }
   ],
   "source": [
    "# combined code\n",
    "\n",
    "\n",
    "#import the requests library\n",
    "import requests\n",
    "\n",
    "#API endpoint\n",
    "url=\"https://dog.ceo/api/breeds/image/random\"\n",
    "\n",
    "#Get request to fetch a random dog image\n",
    "response=requests.get(url)\n",
    "\n",
    "#Check if the request was successful\n",
    "response.status_code\n",
    "\n",
    "if response.status_code==200:\n",
    "    data=response.json()\n",
    "\n",
    "    #Extract the image url from the json data\n",
    "    dog_img=data['message']\n",
    "    print(\"Random dog image url below:\\n\\n\",dog_img)\n",
    "else:\n",
    "    print(\"Failed to retrieve data.Status_code: \",response.status_coe)\n",
    "\n",
    "#URL,print the actual image of the Url here\n",
    "from IPython.display import HTML\n",
    "\n",
    "HTML(f'<img src=\"{dog_img}\" width=\"500 height=\"500\">')\n",
    "\n",
    "\n"
   ]
  },
  {
   "cell_type": "code",
   "execution_count": null,
   "id": "5a29dcb4",
   "metadata": {},
   "outputs": [],
   "source": []
  },
  {
   "cell_type": "code",
   "execution_count": null,
   "id": "8ff77e1a",
   "metadata": {},
   "outputs": [],
   "source": []
  }
 ],
 "metadata": {
  "kernelspec": {
   "display_name": "Python 3",
   "language": "python",
   "name": "python3"
  },
  "language_info": {
   "codemirror_mode": {
    "name": "ipython",
    "version": 3
   },
   "file_extension": ".py",
   "mimetype": "text/x-python",
   "name": "python",
   "nbconvert_exporter": "python",
   "pygments_lexer": "ipython3",
   "version": "3.11.4"
  }
 },
 "nbformat": 4,
 "nbformat_minor": 5
}
