{
 "cells": [
  {
   "cell_type": "code",
   "execution_count": 15,
   "id": "ed0e8e70",
   "metadata": {},
   "outputs": [],
   "source": [
    "#Importing necessary libraries\n",
    "import pandas as pd\n",
    "\n"
   ]
  },
  {
   "cell_type": "code",
   "execution_count": 21,
   "id": "97da5359",
   "metadata": {},
   "outputs": [
    {
     "name": "stdout",
     "output_type": "stream",
     "text": [
      "   Roll Number Student_name  Math  English  Punjabi  Hindi\n",
      "0           10         Neha    85       88       90     80\n",
      "1           11        Kirti    90       92       85     85\n",
      "2           12      Deepika    95       85       88     90\n",
      "3           13       Suhana    80       80       92     95\n"
     ]
    }
   ],
   "source": [
    "#Sample data frame\n",
    "\n",
    "student_data= {\n",
    "    'Roll Number':[10,11,12,13],\n",
    "    'Student_name':['Neha','Kirti','Deepika','Suhana'],\n",
    "    'Math':[85,90,95,80],\n",
    "    'English':[88,92,85,80],\n",
    "    'Punjabi':[90,85,88,92],\n",
    "    'Hindi':[80,85,90,95],\n",
    "    \n",
    "}\n",
    "\n",
    "#Creating a DataFrame from the dictionary\n",
    "df=pd.DataFrame(student_data)\n",
    "\n",
    "print(df)#Printing the DataFrame\n",
    "\n"
   ]
  },
  {
   "cell_type": "code",
   "execution_count": 22,
   "id": "88c2e892",
   "metadata": {},
   "outputs": [],
   "source": [
    "#Saving the DataFrame to a CSV file\n",
    "\n",
    "df.to_csv('stu_data.csv',index=False)"
   ]
  },
  {
   "cell_type": "code",
   "execution_count": 23,
   "id": "e39a21a1",
   "metadata": {},
   "outputs": [],
   "source": [
    "#Reading the csv file\n",
    "\n",
    "df = pd.read_csv('stu_data.csv')"
   ]
  },
  {
   "cell_type": "code",
   "execution_count": 24,
   "id": "8ee724bd",
   "metadata": {},
   "outputs": [
    {
     "name": "stdout",
     "output_type": "stream",
     "text": [
      "   Roll Number Student_name  Math  English  Punjabi  Hindi\n",
      "0           10         Neha    85       88       90     80\n",
      "1           11        Kirti    90       92       85     85\n",
      "2           12      Deepika    95       85       88     90\n",
      "3           13       Suhana    80       80       92     95\n"
     ]
    }
   ],
   "source": [
    "#Printing the DataFrame after reading from the CSV file\n",
    "print(df)"
   ]
  },
  {
   "cell_type": "code",
   "execution_count": 27,
   "id": "2466958b",
   "metadata": {},
   "outputs": [
    {
     "name": "stdout",
     "output_type": "stream",
     "text": [
      "  Student_name  English  Punjabi  Hindi\n",
      "0         Neha       88       90     80\n",
      "1        Kirti       92       85     85\n",
      "2      Deepika       85       88     90\n",
      "3       Suhana       80       92     95\n"
     ]
    }
   ],
   "source": [
    "#Drop the 'Roll Number','Math' columns from the dataframe\n",
    "\n",
    "df_new=df.drop(columns=['Roll Number','Math'])\n",
    "print(df_new)    #Printing the DataFrame after dropping the columns"
   ]
  },
  {
   "cell_type": "code",
   "execution_count": null,
   "id": "d5a1bac0",
   "metadata": {},
   "outputs": [],
   "source": []
  },
  {
   "cell_type": "code",
   "execution_count": null,
   "id": "84febb46",
   "metadata": {},
   "outputs": [],
   "source": []
  },
  {
   "cell_type": "code",
   "execution_count": null,
   "id": "85023004",
   "metadata": {},
   "outputs": [],
   "source": []
  }
 ],
 "metadata": {
  "kernelspec": {
   "display_name": "Python 3",
   "language": "python",
   "name": "python3"
  },
  "language_info": {
   "codemirror_mode": {
    "name": "ipython",
    "version": 3
   },
   "file_extension": ".py",
   "mimetype": "text/x-python",
   "name": "python",
   "nbconvert_exporter": "python",
   "pygments_lexer": "ipython3",
   "version": "3.11.4"
  }
 },
 "nbformat": 4,
 "nbformat_minor": 5
}
