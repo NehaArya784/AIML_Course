{
 "cells": [
  {
   "cell_type": "markdown",
   "id": "c10e2877",
   "metadata": {},
   "source": [
    "<div style=\"background-color: #add8e6; padding: 10px; height: 70px; border-radius: 15px;\">\n",
    "    <div style=\"font-family: 'Georgia', serif; font-size: 20px; padding: 10px; text-align: right; position: absolute; right: 20px;\">\n",
    "        Neha <br>\n",
    "        <span style=\"font-family: 'Arial', sans-serif;font-size: 12px; color: #0a0a0a;\">Tech Skills Trainee <b>| Data Analytics|</b> <!--- Devashish Kumar | CodroidHub Private Limited | AI/ML Consultant --->\n",
    "    </div>\n",
    "</div>"
   ]
  },
  {
   "cell_type": "markdown",
   "id": "24485a44",
   "metadata": {},
   "source": [
    "<div style=\"background-color: lightgreen; color: black; padding: 4px;\">\n",
    "    <h2>  What is Web Scraping?\n",
    "</h2> </div>"
   ]
  },
  {
   "cell_type": "markdown",
   "id": "d320b0ae",
   "metadata": {},
   "source": [
    "->Web scraping in Python refers to the automated process of extracting data from websites using Python programming. \n",
    "\n",
    "->It involves fetching the HTML content of a web page and parsing it to gather specific information, which is then stored in a structured format like a CSV file or database.\n",
    "\n",
    "->This technique is valuable for collecting large amounts of data from various sources on the web, especially when there is no direct way to download it. "
   ]
  },
  {
   "cell_type": "markdown",
   "id": "7d8d2119",
   "metadata": {},
   "source": [
    "<div style=\"background-color: lightgreen; color: black; padding: 4px;\">\n",
    "    <h2>Step to done Web Scrapping:\n",
    "</h2> </div>"
   ]
  },
  {
   "cell_type": "markdown",
   "id": "bded7527",
   "metadata": {},
   "source": [
    "<b>Step 1: Install Required Libraries</b>\n",
    "\n",
    "Use pip to install the necessary libraries\n"
   ]
  },
  {
   "cell_type": "markdown",
   "metadata": {},
   "source": []
  },
  {
   "cell_type": "markdown",
   "metadata": {},
   "source": [
    "<b>Step 2: Fetch the Web Page Content</b>"
   ]
  },
  {
   "cell_type": "markdown",
   "id": "26dcf773",
   "metadata": {},
   "source": [
    "Use the requests library to retrieve the HTML content of the web page you want to scrape:\n",
    "\n",
    "\n"
   ]
  },
  {
   "cell_type": "markdown",
   "id": "68c05239",
   "metadata": {},
   "source": [
    "<b>Step 3: Parse the HTML with Beautiful Soup</b>"
   ]
  },
  {
   "cell_type": "markdown",
   "id": "86141b4c",
   "metadata": {},
   "source": [
    "Create a Beautiful Soup object to parse the HTML content\n",
    "\n"
   ]
  },
  {
   "cell_type": "markdown",
   "id": "d8e42dcd",
   "metadata": {},
   "source": [
    "<b>Step 4: Extract Specific Data</b>"
   ]
  },
  {
   "cell_type": "markdown",
   "id": "3a1c57e1",
   "metadata": {},
   "source": [
    "Use Beautiful Soup's methods to find and extract the data you need. \n",
    "\n"
   ]
  },
  {
   "cell_type": "markdown",
   "id": "8bc88689",
   "metadata": {},
   "source": [
    "<!-- Link the Montserrat font -->\n",
    "<link href=\"https://fonts.googleapis.com/css2?family=Montserrat:wght@700&display=swap\" rel=\"stylesheet\">\n",
    "\n",
    "<!-- Main div with centered content and a flexible box size, no scroll bar -->\n",
    "<div style=\"background-color:rgb(51, 129, 247); min-height: 100px; width: 100%; display: flex; justify-content: center; align-items: center; position: relative; padding: 20px; box-sizing: border-box; font-family: 'Montserrat', sans-serif; font-weight: 700; font-size: 20px; border-radius: 15px;\">\n",
    "    <div style=\"position: absolute; top: 10px; right: 10px; padding: 5px 10px; font-size: 14px; color: rgba(0, 0, 0, 0.05); border-radius: 10px;\">Mohammad Idrees Bhat</div>\n",
    "    <!-- Fill the below text with question -->\n",
    "    <!-- Fill the below text with question -->\n",
    "    What are the benefits of using Python for web scraping?\n",
    "    <!-- Fill the above text with question -->\n",
    "    <!-- Fill the above text with question -->\n",
    "\n",
    "</div>"
   ]
  },
  {
   "cell_type": "markdown",
   "id": "93a2521b",
   "metadata": {},
   "source": [
    "<b>1. Easy to Learn and Use</b>"
   ]
  },
  {
   "cell_type": "markdown",
   "id": "b2a55ea3",
   "metadata": {},
   "source": [
    "Python's straightforward syntax makes it accessible for beginners. With libraries like Beautiful Soup and Requests, you can write simple scripts to extract data from web pages.\n",
    "\n"
   ]
  },
  {
   "cell_type": "markdown",
   "id": "b68fb443",
   "metadata": {},
   "source": [
    "<b>2. Fast and Efficient Data Collection</b>"
   ]
  },
  {
   "cell_type": "markdown",
   "id": "31b04460",
   "metadata": {},
   "source": [
    "Instead of manually copying information, web scraping automates the process, allowing you to collect large amounts of data quickly and accurately.\n",
    "\n"
   ]
  },
  {
   "cell_type": "markdown",
   "id": "068f63d6",
   "metadata": {},
   "source": [
    "<b>3. Cost-Effective</b>"
   ]
  },
  {
   "cell_type": "markdown",
   "id": "ed97c1e3",
   "metadata": {},
   "source": [
    "Automating data collection reduces the need for manual labor, saving time and resources. Once set up, your scraper can run repeatedly without additional costs.\n",
    "\n"
   ]
  },
  {
   "cell_type": "markdown",
   "id": "f826a73e",
   "metadata": {
    "vscode": {
     "languageId": "markdown"
    }
   },
   "source": [
    "<b>4. Structured Data Extraction</b>"
   ]
  },
  {
   "cell_type": "markdown",
   "id": "9cd4a5b9",
   "metadata": {},
   "source": [
    "Web scraping allows you to transform unstructured web content into organized data formats like CSV or JSON, making it easier to analyze and store.\n",
    "\n"
   ]
  },
  {
   "cell_type": "markdown",
   "metadata": {},
   "source": [
    "<b>5. Real-Time Monitoring</b>"
   ]
  },
  {
   "cell_type": "markdown",
   "id": "4ec028e3",
   "metadata": {},
   "source": [
    "You can set up your scraper to run at regular intervals, keeping your data up-to-date by capturing changes as they happen.\n",
    "\n"
   ]
  },
  {
   "cell_type": "markdown",
   "metadata": {},
   "source": [
    "<b>6. Supports Data Analysis and AI</b>"
   ]
  },
  {
   "cell_type": "markdown",
   "id": "e7c9ab9d",
   "metadata": {},
   "source": [
    "Collected data can be used for various purposes, including training machine learning models, conducting market research, or tracking trends.\n",
    "\n"
   ]
  },
  {
   "cell_type": "markdown",
   "id": "681d23b3",
   "metadata": {},
   "source": [
    "<b>7. Versatile Applications</b>"
   ]
  },
  {
   "cell_type": "markdown",
   "id": "d6f846d0",
   "metadata": {},
   "source": [
    "Web scraping is useful across different fields, such as:\n",
    "\n",
    "->E-commerce: Monitoring competitor prices and product availability.\n",
    "\n",
    "->Job Market: Aggregating job postings from various sites.\n",
    "\n",
    "->Research: Gathering data for academic studies.\n",
    "\n",
    "->News: Tracking headlines and articles from multiple sources"
   ]
  },
  {
   "cell_type": "markdown",
   "id": "274efef0",
   "metadata": {},
   "source": [
    "<div style=\"background-color: lightblue; color: white; padding: 10px; text-align: center;\">\n",
    "    <h1>_________________________________END________________________________\n",
    "<!--- Devashish Kumar | Tech Skills Trainer | CodroidHub Private Limited | AI/ML Consultant --->\n",
    "    </h1> </div>"
   ]
  },
  {
   "cell_type": "markdown",
   "id": "207ec540",
   "metadata": {},
   "source": [
    "<div style=\"background-color: #002147; color: #fff; padding: 30px; text-align: center;\">\n",
    "    <h1>THANK YOU!\n",
    "        <!--- Devashish Kumar | Tech Skills Trainer | CodroidHub Private Limited | AI/ML Consultant --->\n",
    "</h1> </div>"
   ]
  },
  {
   "cell_type": "markdown",
   "id": "482489bf",
   "metadata": {},
   "source": []
  }
 ],
 "metadata": {
  "kernelspec": {
   "display_name": "Python 3",
   "language": "python",
   "name": "python3"
  },
  "language_info": {
   "name": "python",
   "version": "3.11.4"
  }
 },
 "nbformat": 4,
 "nbformat_minor": 5
}
