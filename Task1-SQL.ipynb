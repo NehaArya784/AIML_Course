{
 "cells": [
  {
   "cell_type": "markdown",
   "id": "f72c20fd",
   "metadata": {},
   "source": [
    "Objective:You will create a MYSQL database to manage data for a fictional library 'Reader Closet'."
   ]
  },
  {
   "cell_type": "code",
   "execution_count": 24,
   "id": "a80210f6",
   "metadata": {},
   "outputs": [],
   "source": [
    "import sqlite3 as sql"
   ]
  },
  {
   "cell_type": "code",
   "execution_count": 25,
   "id": "71ee752f",
   "metadata": {},
   "outputs": [],
   "source": [
    "#Create a connection with a database named library_db\n",
    "\n",
    "conn=sql.connect('library_db')"
   ]
  },
  {
   "cell_type": "code",
   "execution_count": 26,
   "id": "9b2a54a3",
   "metadata": {},
   "outputs": [],
   "source": [
    "#create a cursor object using the connection -allows us to go through the records\n",
    "cursor=conn.cursor()"
   ]
  },
  {
   "cell_type": "code",
   "execution_count": 30,
   "id": "60e17963",
   "metadata": {},
   "outputs": [
    {
     "data": {
      "text/plain": [
       "<sqlite3.Cursor at 0x1a93f2b45c0>"
      ]
     },
     "execution_count": 30,
     "metadata": {},
     "output_type": "execute_result"
    }
   ],
   "source": [
    "#Create a table named members\n",
    "cursor.execute('''\n",
    "CREATE TABLE IF NOT EXISTS members(\n",
    "member_id PRIMARY KEY,\n",
    "name VARCHAR(50),\n",
    "email VARCHAR(50),\n",
    "join_date DATE);\n",
    "               ''')"
   ]
  },
  {
   "cell_type": "code",
   "execution_count": 31,
   "id": "fca5409e",
   "metadata": {},
   "outputs": [],
   "source": [
    "conn.commit()"
   ]
  },
  {
   "cell_type": "code",
   "execution_count": null,
   "id": "b9d687c4",
   "metadata": {},
   "outputs": [],
   "source": []
  },
  {
   "cell_type": "code",
   "execution_count": 33,
   "id": "124f3c44",
   "metadata": {},
   "outputs": [
    {
     "data": {
      "text/plain": [
       "<sqlite3.Cursor at 0x1a93f2b45c0>"
      ]
     },
     "execution_count": 33,
     "metadata": {},
     "output_type": "execute_result"
    }
   ],
   "source": [
    "#Create a table named books\n",
    "cursor.execute('''\n",
    "CREATE TABLE IF NOT EXISTS books(\n",
    "book_Id INTEGER PRIMARY KEY,\n",
    "title VARCHAR(100),\n",
    "author VARCHAR(100),\n",
    "published_year INTEGER,\n",
    "available_copies INTEGER\n",
    ");\n",
    "''')"
   ]
  },
  {
   "cell_type": "code",
   "execution_count": 37,
   "id": "7be97519",
   "metadata": {},
   "outputs": [
    {
     "data": {
      "text/plain": [
       "<sqlite3.Cursor at 0x1a93f2b45c0>"
      ]
     },
     "execution_count": 37,
     "metadata": {},
     "output_type": "execute_result"
    }
   ],
   "source": [
    "# Insert the provided sample data into the members and books tables\n",
    "cursor.execute('''\n",
    "INSERT INTO members(member_id,name,email,join_date)\n",
    "VALUES(1,'Riya','riyaarya12@gmail.com','2024-01-01');\n",
    "''')"
   ]
  },
  {
   "cell_type": "code",
   "execution_count": 39,
   "id": "d98287ee",
   "metadata": {},
   "outputs": [
    {
     "data": {
      "text/plain": [
       "<sqlite3.Cursor at 0x1a93f2b45c0>"
      ]
     },
     "execution_count": 39,
     "metadata": {},
     "output_type": "execute_result"
    }
   ],
   "source": [
    "cursor.execute('''\n",
    "INSERT INTO members(member_id,name,email,join_date)\n",
    "VALUES(2,'Neha','nehaaarya78@gmail.com','2024-02-01');\n",
    "''')"
   ]
  },
  {
   "cell_type": "code",
   "execution_count": 40,
   "id": "bc497ac8",
   "metadata": {},
   "outputs": [
    {
     "data": {
      "text/plain": [
       "<sqlite3.Cursor at 0x1a93f2b45c0>"
      ]
     },
     "execution_count": 40,
     "metadata": {},
     "output_type": "execute_result"
    }
   ],
   "source": [
    "cursor.execute('''\n",
    "INSERT INTO members(member_id,name,email,join_date)\n",
    "VALUES(3,'Harshita','harshaarya98@gmail.com','2024-02-04');\n",
    "''')"
   ]
  },
  {
   "cell_type": "code",
   "execution_count": 51,
   "id": "d6586a2b",
   "metadata": {},
   "outputs": [],
   "source": [
    "cursor.execute('''\n",
    "                SELECT * FROM members;\n",
    "               ''')\n",
    "results_1=cursor.fetchall() #fetch all the records"
   ]
  },
  {
   "cell_type": "code",
   "execution_count": 52,
   "id": "12b787aa",
   "metadata": {},
   "outputs": [
    {
     "data": {
      "text/html": [
       "<div>\n",
       "<style scoped>\n",
       "    .dataframe tbody tr th:only-of-type {\n",
       "        vertical-align: middle;\n",
       "    }\n",
       "\n",
       "    .dataframe tbody tr th {\n",
       "        vertical-align: top;\n",
       "    }\n",
       "\n",
       "    .dataframe thead th {\n",
       "        text-align: right;\n",
       "    }\n",
       "</style>\n",
       "<table border=\"1\" class=\"dataframe\">\n",
       "  <thead>\n",
       "    <tr style=\"text-align: right;\">\n",
       "      <th></th>\n",
       "      <th>0</th>\n",
       "      <th>1</th>\n",
       "      <th>2</th>\n",
       "      <th>3</th>\n",
       "    </tr>\n",
       "  </thead>\n",
       "  <tbody>\n",
       "    <tr>\n",
       "      <th>0</th>\n",
       "      <td>1</td>\n",
       "      <td>Riya</td>\n",
       "      <td>riyaarya12@gmail.com</td>\n",
       "      <td>2024-01-01</td>\n",
       "    </tr>\n",
       "    <tr>\n",
       "      <th>1</th>\n",
       "      <td>2</td>\n",
       "      <td>Neha</td>\n",
       "      <td>nehaaarya78@gmail.com</td>\n",
       "      <td>2024-02-01</td>\n",
       "    </tr>\n",
       "    <tr>\n",
       "      <th>2</th>\n",
       "      <td>3</td>\n",
       "      <td>Harshita</td>\n",
       "      <td>harshaarya98@gmail.com</td>\n",
       "      <td>2024-02-04</td>\n",
       "    </tr>\n",
       "  </tbody>\n",
       "</table>\n",
       "</div>"
      ],
      "text/plain": [
       "   0         1                       2           3\n",
       "0  1      Riya    riyaarya12@gmail.com  2024-01-01\n",
       "1  2      Neha   nehaaarya78@gmail.com  2024-02-01\n",
       "2  3  Harshita  harshaarya98@gmail.com  2024-02-04"
      ]
     },
     "execution_count": 52,
     "metadata": {},
     "output_type": "execute_result"
    }
   ],
   "source": [
    "import pandas as pd\n",
    "df1=pd.DataFrame(results_1)\n",
    "df1"
   ]
  },
  {
   "cell_type": "code",
   "execution_count": 53,
   "id": "1f68a958",
   "metadata": {},
   "outputs": [],
   "source": [
    "#List of all members who joined after January 1,2024.\n",
    "cursor.execute('''\n",
    "SELECT * FROM members WHERE join_date > '2024-01-01';\n",
    "''')\n",
    "results_2=cursor.fetchall() #fetch all the records"
   ]
  },
  {
   "cell_type": "code",
   "execution_count": 56,
   "id": "48cd82de",
   "metadata": {},
   "outputs": [
    {
     "data": {
      "text/html": [
       "<div>\n",
       "<style scoped>\n",
       "    .dataframe tbody tr th:only-of-type {\n",
       "        vertical-align: middle;\n",
       "    }\n",
       "\n",
       "    .dataframe tbody tr th {\n",
       "        vertical-align: top;\n",
       "    }\n",
       "\n",
       "    .dataframe thead th {\n",
       "        text-align: right;\n",
       "    }\n",
       "</style>\n",
       "<table border=\"1\" class=\"dataframe\">\n",
       "  <thead>\n",
       "    <tr style=\"text-align: right;\">\n",
       "      <th></th>\n",
       "      <th>0</th>\n",
       "      <th>1</th>\n",
       "      <th>2</th>\n",
       "      <th>3</th>\n",
       "    </tr>\n",
       "  </thead>\n",
       "  <tbody>\n",
       "    <tr>\n",
       "      <th>0</th>\n",
       "      <td>2</td>\n",
       "      <td>Neha</td>\n",
       "      <td>nehaaarya78@gmail.com</td>\n",
       "      <td>2024-02-01</td>\n",
       "    </tr>\n",
       "    <tr>\n",
       "      <th>1</th>\n",
       "      <td>3</td>\n",
       "      <td>Harshita</td>\n",
       "      <td>harshaarya98@gmail.com</td>\n",
       "      <td>2024-02-04</td>\n",
       "    </tr>\n",
       "  </tbody>\n",
       "</table>\n",
       "</div>"
      ],
      "text/plain": [
       "   0         1                       2           3\n",
       "0  2      Neha   nehaaarya78@gmail.com  2024-02-01\n",
       "1  3  Harshita  harshaarya98@gmail.com  2024-02-04"
      ]
     },
     "execution_count": 56,
     "metadata": {},
     "output_type": "execute_result"
    }
   ],
   "source": [
    "df2=pd.DataFrame(results_2)\n",
    "df2\n"
   ]
  },
  {
   "cell_type": "code",
   "execution_count": 57,
   "id": "52b72842",
   "metadata": {},
   "outputs": [
    {
     "data": {
      "text/plain": [
       "<sqlite3.Cursor at 0x1a93f2b45c0>"
      ]
     },
     "execution_count": 57,
     "metadata": {},
     "output_type": "execute_result"
    }
   ],
   "source": [
    "#Insert the provided sample data into the  books tables\n",
    "cursor.execute('''\n",
    "INSERT INTO books(book_Id,title,author,published_year,available_copies)\n",
    "VALUES(23,'The Great Gatsby','F. Scott Fitzgerald',1925,3);\n",
    "\n",
    "               \n",
    "''')"
   ]
  },
  {
   "cell_type": "code",
   "execution_count": 58,
   "id": "f43f3856",
   "metadata": {},
   "outputs": [
    {
     "data": {
      "text/plain": [
       "<sqlite3.Cursor at 0x1a93f2b45c0>"
      ]
     },
     "execution_count": 58,
     "metadata": {},
     "output_type": "execute_result"
    }
   ],
   "source": [
    "cursor.execute('''\n",
    "INSERT INTO books(book_Id,title,author,published_year,available_copies)\n",
    "VALUES(24,'To Kill a Mockingbird','Harper Lee',1960,5);\n",
    "\n",
    "               \n",
    "''')"
   ]
  },
  {
   "cell_type": "code",
   "execution_count": 60,
   "metadata": {},
   "outputs": [
    {
     "data": {
      "text/plain": [
       "<sqlite3.Cursor at 0x1a93f2b45c0>"
      ]
     },
     "execution_count": 60,
     "metadata": {},
     "output_type": "execute_result"
    }
   ],
   "source": [
    "cursor.execute('''\n",
    "INSERT INTO books(book_Id,title,author,published_year,available_copies)\n",
    "VALUES( 25,'1984','George Orwell',1949,2);\n",
    "\n",
    "               \n",
    "''')"
   ]
  },
  {
   "cell_type": "code",
   "execution_count": 62,
   "id": "7dec218b",
   "metadata": {},
   "outputs": [],
   "source": [
    "cursor.execute('''\n",
    "SELECT * FROM books;\n",
    "               ''')\n",
    "results_3=cursor.fetchall()"
   ]
  },
  {
   "cell_type": "code",
   "execution_count": 63,
   "id": "651d32ea",
   "metadata": {},
   "outputs": [
    {
     "data": {
      "text/html": [
       "<div>\n",
       "<style scoped>\n",
       "    .dataframe tbody tr th:only-of-type {\n",
       "        vertical-align: middle;\n",
       "    }\n",
       "\n",
       "    .dataframe tbody tr th {\n",
       "        vertical-align: top;\n",
       "    }\n",
       "\n",
       "    .dataframe thead th {\n",
       "        text-align: right;\n",
       "    }\n",
       "</style>\n",
       "<table border=\"1\" class=\"dataframe\">\n",
       "  <thead>\n",
       "    <tr style=\"text-align: right;\">\n",
       "      <th></th>\n",
       "      <th>0</th>\n",
       "      <th>1</th>\n",
       "      <th>2</th>\n",
       "      <th>3</th>\n",
       "      <th>4</th>\n",
       "    </tr>\n",
       "  </thead>\n",
       "  <tbody>\n",
       "    <tr>\n",
       "      <th>0</th>\n",
       "      <td>23</td>\n",
       "      <td>The Great Gatsby</td>\n",
       "      <td>F. Scott Fitzgerald</td>\n",
       "      <td>1925</td>\n",
       "      <td>3</td>\n",
       "    </tr>\n",
       "    <tr>\n",
       "      <th>1</th>\n",
       "      <td>24</td>\n",
       "      <td>To Kill a Mockingbird</td>\n",
       "      <td>Harper Lee</td>\n",
       "      <td>1960</td>\n",
       "      <td>5</td>\n",
       "    </tr>\n",
       "    <tr>\n",
       "      <th>2</th>\n",
       "      <td>25</td>\n",
       "      <td>1984</td>\n",
       "      <td>George Orwell</td>\n",
       "      <td>1949</td>\n",
       "      <td>2</td>\n",
       "    </tr>\n",
       "  </tbody>\n",
       "</table>\n",
       "</div>"
      ],
      "text/plain": [
       "    0                      1                    2     3  4\n",
       "0  23       The Great Gatsby  F. Scott Fitzgerald  1925  3\n",
       "1  24  To Kill a Mockingbird           Harper Lee  1960  5\n",
       "2  25                   1984        George Orwell  1949  2"
      ]
     },
     "execution_count": 63,
     "metadata": {},
     "output_type": "execute_result"
    }
   ],
   "source": [
    "df3=pd.DataFrame(results_3)\n",
    "df3\n"
   ]
  },
  {
   "cell_type": "markdown",
   "id": "702564e3",
   "metadata": {},
   "source": []
  },
  {
   "cell_type": "code",
   "execution_count": 65,
   "id": "cc794511",
   "metadata": {},
   "outputs": [],
   "source": [
    "#Find the total number of available copies for all books.\n",
    "\n",
    "cursor.execute('''\n",
    "SELECT * FROM books WHERE available_copies > 0;''')\n",
    "results_4=cursor.fetchall() #fetch all the records\n"
   ]
  },
  {
   "cell_type": "code",
   "execution_count": null,
   "id": "945f3387",
   "metadata": {},
   "outputs": [
    {
     "data": {
      "text/html": [
       "<div>\n",
       "<style scoped>\n",
       "    .dataframe tbody tr th:only-of-type {\n",
       "        vertical-align: middle;\n",
       "    }\n",
       "\n",
       "    .dataframe tbody tr th {\n",
       "        vertical-align: top;\n",
       "    }\n",
       "\n",
       "    .dataframe thead th {\n",
       "        text-align: right;\n",
       "    }\n",
       "</style>\n",
       "<table border=\"1\" class=\"dataframe\">\n",
       "  <thead>\n",
       "    <tr style=\"text-align: right;\">\n",
       "      <th></th>\n",
       "      <th>0</th>\n",
       "      <th>1</th>\n",
       "      <th>2</th>\n",
       "      <th>3</th>\n",
       "      <th>4</th>\n",
       "    </tr>\n",
       "  </thead>\n",
       "  <tbody>\n",
       "    <tr>\n",
       "      <th>0</th>\n",
       "      <td>23</td>\n",
       "      <td>The Great Gatsby</td>\n",
       "      <td>F. Scott Fitzgerald</td>\n",
       "      <td>1925</td>\n",
       "      <td>3</td>\n",
       "    </tr>\n",
       "    <tr>\n",
       "      <th>1</th>\n",
       "      <td>24</td>\n",
       "      <td>To Kill a Mockingbird</td>\n",
       "      <td>Harper Lee</td>\n",
       "      <td>1960</td>\n",
       "      <td>5</td>\n",
       "    </tr>\n",
       "    <tr>\n",
       "      <th>2</th>\n",
       "      <td>25</td>\n",
       "      <td>1984</td>\n",
       "      <td>George Orwell</td>\n",
       "      <td>1949</td>\n",
       "      <td>2</td>\n",
       "    </tr>\n",
       "  </tbody>\n",
       "</table>\n",
       "</div>"
      ],
      "text/plain": [
       "    0                      1                    2     3  4\n",
       "0  23       The Great Gatsby  F. Scott Fitzgerald  1925  3\n",
       "1  24  To Kill a Mockingbird           Harper Lee  1960  5\n",
       "2  25                   1984        George Orwell  1949  2"
      ]
     },
     "execution_count": 66,
     "metadata": {},
     "output_type": "execute_result"
    }
   ],
   "source": [
    "df4=pd.DataFrame(results_4)\n",
    "df4"
   ]
  },
  {
   "cell_type": "code",
   "execution_count": null,
   "id": "f8d064a7",
   "metadata": {},
   "outputs": [],
   "source": []
  }
 ],
 "metadata": {
  "kernelspec": {
   "display_name": "Python 3",
   "language": "python",
   "name": "python3"
  },
  "language_info": {
   "codemirror_mode": {
    "name": "ipython",
    "version": 3
   },
   "file_extension": ".py",
   "mimetype": "text/x-python",
   "name": "python",
   "nbconvert_exporter": "python",
   "pygments_lexer": "ipython3",
   "version": "3.11.4"
  }
 },
 "nbformat": 4,
 "nbformat_minor": 5
}
