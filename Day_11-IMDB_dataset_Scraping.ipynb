{
 "cells": [
  {
   "cell_type": "markdown",
   "id": "1b57fe41",
   "metadata": {},
   "source": [
    "<div style=\"background-color: lightgreen; color: black; padding: 4px;\">\n",
    "    <h2>  IMDB Web Scraping:\n",
    "</h2> </div>"
   ]
  },
  {
   "cell_type": "markdown",
   "id": "2fe8034c",
   "metadata": {},
   "source": [
    "<div style=\"background-color: white; color: black; padding: 4px;\">\n",
    "    <h2>Step to done Web Scrapping:\n",
    "</h2> </div>"
   ]
  },
  {
   "cell_type": "markdown",
   "id": "e81f5fce",
   "metadata": {},
   "source": [
    "Step to done Web Scrapping:<br>\n",
    "1.HTTP request - done<br>\n",
    "2.HTML content, parse- bs4 library - html<br>\n",
    "3.Extract data - target tag, id,<br>\n",
    "4.Store - data json turn into dataframes<br>"
   ]
  },
  {
   "cell_type": "code",
   "execution_count": null,
   "id": "7fdbdae6",
   "metadata": {},
   "outputs": [],
   "source": [
    "import requests\n",
    "from bs4 import BeautifulSoup\n",
    "import pandas as pd"
   ]
  },
  {
   "cell_type": "code",
   "execution_count": null,
   "id": "b030e026",
   "metadata": {},
   "outputs": [],
   "source": []
  },
  {
   "cell_type": "code",
   "execution_count": null,
   "id": "44bbedc1",
   "metadata": {},
   "outputs": [],
   "source": []
  }
 ],
 "metadata": {
  "kernelspec": {
   "display_name": "Python 3",
   "language": "python",
   "name": "python3"
  },
  "language_info": {
   "name": "python",
   "version": "3.11.4"
  }
 },
 "nbformat": 4,
 "nbformat_minor": 5
}
